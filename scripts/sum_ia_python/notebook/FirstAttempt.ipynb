{
 "cells": [
  {
   "cell_type": "code",
   "execution_count": 1,
   "id": "f4542779",
   "metadata": {},
   "outputs": [],
   "source": [
    "import pandas as pd\n",
    "import numpy as np\n",
    "from sklearn.preprocessing import OneHotEncoder\n",
    "\n",
    "mnist_train_csv = \"../data/mnist_train.csv\"\n",
    "mnist_test_csv = \"../data/mnist_test.csv\"\n",
    "\n",
    "df_train = pd.read_csv(mnist_train_csv, header=None) # data_frame"
   ]
  },
  {
   "cell_type": "code",
   "execution_count": 2,
   "id": "d3b2d354",
   "metadata": {},
   "outputs": [
    {
     "data": {
      "text/plain": [
       "array([5, 0, 4, ..., 5, 6, 8], dtype=uint8)"
      ]
     },
     "execution_count": 2,
     "metadata": {},
     "output_type": "execute_result"
    }
   ],
   "source": [
    "labels = df_train.iloc[:, 0] # iloc \"indice\" ; loc \"identifiant string\" ; iloc + rapide que loc\n",
    "labels = labels.values.astype(np.uint8) # transforme en array numpy\n",
    "\n",
    "labels"
   ]
  },
  {
   "cell_type": "code",
   "execution_count": 3,
   "id": "7721c54c",
   "metadata": {},
   "outputs": [],
   "source": [
    "## 'identique' à la ligne du dessous, déduit la premiere dimension\n",
    "# images = df.iloc[:, 1:].values.astype(np.uint8).reshape(60000, 28, 28)\n",
    "\n",
    "images = df_train.iloc[:, 1:].values.astype(np.uint8).reshape(-1, 28, 28) # desapplati ...\n",
    "# images"
   ]
  },
  {
   "cell_type": "code",
   "execution_count": 4,
   "id": "8b6d4021",
   "metadata": {},
   "outputs": [
    {
     "data": {
      "text/plain": [
       "array([59805, 30663, 55893, ..., 19445, 25987, 54419])"
      ]
     },
     "execution_count": 4,
     "metadata": {},
     "output_type": "execute_result"
    }
   ],
   "source": [
    "n = labels.shape[0]\n",
    "idx = np.arange(n)\n",
    "np.random.shuffle(idx)\n",
    "idx1 = idx[::2]\n",
    "idx2 = idx[1::2]\n",
    "idx1"
   ]
  },
  {
   "cell_type": "code",
   "execution_count": 5,
   "id": "c2e9598e",
   "metadata": {},
   "outputs": [
    {
     "data": {
      "text/plain": [
       "(30000, 28, 28)"
      ]
     },
     "execution_count": 5,
     "metadata": {},
     "output_type": "execute_result"
    }
   ],
   "source": [
    "images[idx1, ...].shape"
   ]
  },
  {
   "cell_type": "code",
   "execution_count": 6,
   "id": "1a0dfdac",
   "metadata": {
    "scrolled": true
   },
   "outputs": [
    {
     "data": {
      "text/plain": [
       "array([5, 3, 7, ..., 3, 4, 6], dtype=uint8)"
      ]
     },
     "execution_count": 6,
     "metadata": {},
     "output_type": "execute_result"
    }
   ],
   "source": [
    "train_y_ = labels[idx1] + labels[idx2]\n",
    "train_y_"
   ]
  },
  {
   "cell_type": "code",
   "execution_count": 7,
   "id": "4b89706f",
   "metadata": {},
   "outputs": [
    {
     "data": {
      "text/plain": [
       "(30000, 19)"
      ]
     },
     "execution_count": 7,
     "metadata": {},
     "output_type": "execute_result"
    }
   ],
   "source": [
    "enc = OneHotEncoder(handle_unknown='ignore')\n",
    "train_y = enc.fit_transform((labels[idx1] + labels[idx2]).reshape(-1, 1)).todense()\n",
    "train_y.shape"
   ]
  },
  {
   "cell_type": "code",
   "execution_count": 8,
   "id": "ca60fd41",
   "metadata": {},
   "outputs": [],
   "source": [
    "train_x = np.concatenate([images[idx1, ...], images[idx2, ...]], axis=2) # concatene images sur le 2e axe"
   ]
  },
  {
   "cell_type": "code",
   "execution_count": 9,
   "id": "ceabbda2",
   "metadata": {},
   "outputs": [],
   "source": [
    "train_x = train_x.reshape(-1, 28*56) # re applatir pour le réseau"
   ]
  },
  {
   "cell_type": "code",
   "execution_count": 10,
   "id": "089011ea",
   "metadata": {
    "scrolled": true
   },
   "outputs": [
    {
     "data": {
      "text/plain": [
       "array([[0, 0, 0, ..., 0, 0, 0],\n",
       "       [0, 0, 0, ..., 0, 0, 0],\n",
       "       [0, 0, 0, ..., 0, 0, 0],\n",
       "       ...,\n",
       "       [0, 0, 0, ..., 0, 0, 0],\n",
       "       [0, 0, 0, ..., 0, 0, 0],\n",
       "       [0, 0, 0, ..., 0, 0, 0]], dtype=uint8)"
      ]
     },
     "execution_count": 10,
     "metadata": {},
     "output_type": "execute_result"
    }
   ],
   "source": [
    "train_x[0, :].reshape(28, 56)"
   ]
  },
  {
   "cell_type": "code",
   "execution_count": 11,
   "id": "8a900c35",
   "metadata": {},
   "outputs": [],
   "source": [
    "df_test = pd.read_csv(mnist_test_csv, header=None) # data_frame"
   ]
  },
  {
   "cell_type": "code",
   "execution_count": 12,
   "id": "13cda2b3",
   "metadata": {},
   "outputs": [
    {
     "data": {
      "text/plain": [
       "(30000, 1568)"
      ]
     },
     "execution_count": 12,
     "metadata": {},
     "output_type": "execute_result"
    }
   ],
   "source": [
    "labels = df_train.iloc[:, 0] # iloc \"indice\" ; loc \"identifiant string\" ; iloc + rapide que loc\n",
    "labels = labels.values.astype(np.uint8) # transforme en array numpy\n",
    "images = df_train.iloc[:, 1:].values.astype(np.uint8).reshape(-1, 28, 28) # desapplati ...\n",
    "n = labels.shape[0]\n",
    "idx = np.arange(n)\n",
    "np.random.shuffle(idx)\n",
    "idx1 = idx[::2]\n",
    "idx2 = idx[1::2]\n",
    "val_y_ = labels[idx1] + labels[idx2]\n",
    "enc = OneHotEncoder(handle_unknown='ignore')\n",
    "val_y = enc.fit_transform((labels[idx1] + labels[idx2]).reshape(-1, 1)).todense()\n",
    "val_y.shape\n",
    "\n",
    "val_x = np.concatenate([images[idx1, ...], images[idx2, ...]], axis=2) # concatene images sur le 2e axe\n",
    "val_x.reshape(-1, 28*56).shape # re applatir pour le réseau"
   ]
  },
  {
   "cell_type": "code",
   "execution_count": 13,
   "id": "5a66f9b2",
   "metadata": {},
   "outputs": [],
   "source": [
    "import torch\n",
    "import torch.nn as nn\n",
    "import torch.nn.functional as F\n",
    "import torch.optim as optim\n",
    "from torch.autograd import Variable"
   ]
  },
  {
   "cell_type": "code",
   "execution_count": 14,
   "id": "c24f6207",
   "metadata": {},
   "outputs": [],
   "source": [
    "class Network(nn.Module):\n",
    "    def __init__(self):\n",
    "        super(Network, self).__init__()\n",
    "        self.l1 = nn.Linear(1568, 392)\n",
    "        self.relu1 = nn.ReLU() # casse la linearite\n",
    "        self.l2 = nn.Linear(392, 98)\n",
    "        self.relu2 = nn.ReLU() # casse la linearite\n",
    "        self.l3 = nn.Linear(98, 19)\n",
    "        \n",
    "    def forward(self, x):\n",
    "        x = self.l1(x)\n",
    "        x = self.relu1(x)\n",
    "        x = self.l2(x)\n",
    "        x = self.relu2(x)\n",
    "        x = self.l3(x)\n",
    "        return F.softmax(x, dim=1)"
   ]
  },
  {
   "cell_type": "code",
   "execution_count": 15,
   "id": "603d1415",
   "metadata": {},
   "outputs": [],
   "source": [
    "net = Network()"
   ]
  },
  {
   "cell_type": "code",
   "execution_count": 16,
   "id": "20bafc8a",
   "metadata": {},
   "outputs": [],
   "source": [
    "optimizer = optim.SGD(net.parameters(), lr=0.00005, momentum=0.9) # quelle fonction de descente de gradient ? rapidité de descente sur l'erreur\n",
    "loss_func = nn.CrossEntropyLoss()"
   ]
  },
  {
   "cell_type": "code",
   "execution_count": 17,
   "id": "96308712",
   "metadata": {},
   "outputs": [
    {
     "data": {
      "text/plain": [
       "(30000, 1568)"
      ]
     },
     "execution_count": 17,
     "metadata": {},
     "output_type": "execute_result"
    }
   ],
   "source": [
    "train_x.shape"
   ]
  },
  {
   "cell_type": "code",
   "execution_count": 18,
   "id": "96963646",
   "metadata": {},
   "outputs": [
    {
     "name": "stdout",
     "output_type": "stream",
     "text": [
      "Epoch: 0 - Loss: 2.926457\n"
     ]
    },
    {
     "ename": "KeyboardInterrupt",
     "evalue": "",
     "output_type": "error",
     "traceback": [
      "\u001b[1;31m---------------------------------------------------------------------------\u001b[0m",
      "\u001b[1;31mKeyboardInterrupt\u001b[0m                         Traceback (most recent call last)",
      "\u001b[1;32m~\\AppData\\Local\\Temp/ipykernel_13664/3295057745.py\u001b[0m in \u001b[0;36m<module>\u001b[1;34m\u001b[0m\n\u001b[0;32m     19\u001b[0m \u001b[1;33m\u001b[0m\u001b[0m\n\u001b[0;32m     20\u001b[0m         \u001b[0mloss\u001b[0m \u001b[1;33m=\u001b[0m \u001b[0mloss_func\u001b[0m\u001b[1;33m(\u001b[0m\u001b[0mnet_out\u001b[0m\u001b[1;33m,\u001b[0m \u001b[0my_var\u001b[0m\u001b[1;33m)\u001b[0m\u001b[1;33m\u001b[0m\u001b[1;33m\u001b[0m\u001b[0m\n\u001b[1;32m---> 21\u001b[1;33m         \u001b[0mloss\u001b[0m\u001b[1;33m.\u001b[0m\u001b[0mbackward\u001b[0m\u001b[1;33m(\u001b[0m\u001b[1;33m)\u001b[0m\u001b[1;33m\u001b[0m\u001b[1;33m\u001b[0m\u001b[0m\n\u001b[0m\u001b[0;32m     22\u001b[0m         \u001b[0moptimizer\u001b[0m\u001b[1;33m.\u001b[0m\u001b[0mstep\u001b[0m\u001b[1;33m(\u001b[0m\u001b[1;33m)\u001b[0m\u001b[1;33m\u001b[0m\u001b[1;33m\u001b[0m\u001b[0m\n\u001b[0;32m     23\u001b[0m \u001b[1;33m\u001b[0m\u001b[0m\n",
      "\u001b[1;32m~\\anaconda3\\envs\\sum_ia\\lib\\site-packages\\torch\\tensor.py\u001b[0m in \u001b[0;36mbackward\u001b[1;34m(self, gradient, retain_graph, create_graph)\u001b[0m\n\u001b[0;32m    183\u001b[0m                 \u001b[0mproducts\u001b[0m\u001b[1;33m.\u001b[0m \u001b[0mDefaults\u001b[0m \u001b[0mto\u001b[0m\u001b[0;31m \u001b[0m\u001b[0;31m`\u001b[0m\u001b[0;31m`\u001b[0m\u001b[1;32mFalse\u001b[0m\u001b[0;31m`\u001b[0m\u001b[0;31m`\u001b[0m\u001b[1;33m.\u001b[0m\u001b[1;33m\u001b[0m\u001b[1;33m\u001b[0m\u001b[0m\n\u001b[0;32m    184\u001b[0m         \"\"\"\n\u001b[1;32m--> 185\u001b[1;33m         \u001b[0mtorch\u001b[0m\u001b[1;33m.\u001b[0m\u001b[0mautograd\u001b[0m\u001b[1;33m.\u001b[0m\u001b[0mbackward\u001b[0m\u001b[1;33m(\u001b[0m\u001b[0mself\u001b[0m\u001b[1;33m,\u001b[0m \u001b[0mgradient\u001b[0m\u001b[1;33m,\u001b[0m \u001b[0mretain_graph\u001b[0m\u001b[1;33m,\u001b[0m \u001b[0mcreate_graph\u001b[0m\u001b[1;33m)\u001b[0m\u001b[1;33m\u001b[0m\u001b[1;33m\u001b[0m\u001b[0m\n\u001b[0m\u001b[0;32m    186\u001b[0m \u001b[1;33m\u001b[0m\u001b[0m\n\u001b[0;32m    187\u001b[0m     \u001b[1;32mdef\u001b[0m \u001b[0mregister_hook\u001b[0m\u001b[1;33m(\u001b[0m\u001b[0mself\u001b[0m\u001b[1;33m,\u001b[0m \u001b[0mhook\u001b[0m\u001b[1;33m)\u001b[0m\u001b[1;33m:\u001b[0m\u001b[1;33m\u001b[0m\u001b[1;33m\u001b[0m\u001b[0m\n",
      "\u001b[1;32m~\\anaconda3\\envs\\sum_ia\\lib\\site-packages\\torch\\autograd\\__init__.py\u001b[0m in \u001b[0;36mbackward\u001b[1;34m(tensors, grad_tensors, retain_graph, create_graph, grad_variables)\u001b[0m\n\u001b[0;32m    125\u001b[0m     Variable._execution_engine.run_backward(\n\u001b[0;32m    126\u001b[0m         \u001b[0mtensors\u001b[0m\u001b[1;33m,\u001b[0m \u001b[0mgrad_tensors\u001b[0m\u001b[1;33m,\u001b[0m \u001b[0mretain_graph\u001b[0m\u001b[1;33m,\u001b[0m \u001b[0mcreate_graph\u001b[0m\u001b[1;33m,\u001b[0m\u001b[1;33m\u001b[0m\u001b[1;33m\u001b[0m\u001b[0m\n\u001b[1;32m--> 127\u001b[1;33m         allow_unreachable=True)  # allow_unreachable flag\n\u001b[0m\u001b[0;32m    128\u001b[0m \u001b[1;33m\u001b[0m\u001b[0m\n\u001b[0;32m    129\u001b[0m \u001b[1;33m\u001b[0m\u001b[0m\n",
      "\u001b[1;31mKeyboardInterrupt\u001b[0m: "
     ]
    }
   ],
   "source": [
    "x = torch.FloatTensor(train_x)\n",
    "y = torch.LongTensor(train_y_)\n",
    "\n",
    "loss_log = []\n",
    "\n",
    "batch_size = 10\n",
    "n = train_x.shape[0]\n",
    "\n",
    "for e in range(20):\n",
    "    for i in range(0, n, batch_size):\n",
    "        x_mini = x[i:i + batch_size] \n",
    "        y_mini = y[i:i + batch_size] \n",
    "        \n",
    "        x_var = Variable(x_mini)\n",
    "        y_var = Variable(y_mini)\n",
    "        \n",
    "        optimizer.zero_grad()\n",
    "        net_out = net(x_var)\n",
    "        \n",
    "        loss = loss_func(net_out, y_var)\n",
    "        loss.backward()\n",
    "        optimizer.step()\n",
    "        \n",
    "        if i % 100 == 0:\n",
    "            loss_log.append(loss.item())\n",
    "        \n",
    "    print(f'Epoch: {e} - Loss: {loss.item():.6f}')"
   ]
  }
 ],
 "metadata": {
  "kernelspec": {
   "display_name": "Python [conda env:sum_ia] *",
   "language": "python",
   "name": "conda-env-sum_ia-py"
  },
  "language_info": {
   "codemirror_mode": {
    "name": "ipython",
    "version": 3
   },
   "file_extension": ".py",
   "mimetype": "text/x-python",
   "name": "python",
   "nbconvert_exporter": "python",
   "pygments_lexer": "ipython3",
   "version": "3.7.11"
  }
 },
 "nbformat": 4,
 "nbformat_minor": 5
}
