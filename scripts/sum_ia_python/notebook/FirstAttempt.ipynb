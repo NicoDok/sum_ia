{
 "cells": [
  {
   "cell_type": "code",
   "execution_count": 65,
   "id": "f4542779",
   "metadata": {},
   "outputs": [],
   "source": [
    "import pandas as pd\n",
    "import numpy as np\n",
    "import plotly.express as px\n",
    "from sklearn.preprocessing import OneHotEncoder, scale\n",
    "\n",
    "mnist_train_csv = \"../data/mnist_train.csv\"\n",
    "mnist_test_csv = \"../data/mnist_test.csv\"\n",
    "\n",
    "df_train = pd.read_csv(mnist_train_csv, header=None) # data_frame"
   ]
  },
  {
   "cell_type": "code",
   "execution_count": 66,
   "id": "d3b2d354",
   "metadata": {},
   "outputs": [
    {
     "data": {
      "text/plain": [
       "array([5, 0, 4, ..., 5, 6, 8], dtype=uint8)"
      ]
     },
     "execution_count": 66,
     "metadata": {},
     "output_type": "execute_result"
    }
   ],
   "source": [
    "labels = df_train.iloc[:, 0] # iloc \"indice\" ; loc \"identifiant string\" ; iloc + rapide que loc\n",
    "labels = labels.values.astype(np.uint8) # transforme en array numpy\n",
    "\n",
    "labels"
   ]
  },
  {
   "cell_type": "code",
   "execution_count": 67,
   "id": "7721c54c",
   "metadata": {},
   "outputs": [],
   "source": [
    "## 'identique' à la ligne du dessous, déduit la premiere dimension\n",
    "# images = df.iloc[:, 1:].values.astype(np.uint8).reshape(60000, 28, 28)\n",
    "\n",
    "images = df_train.iloc[:, 1:].values.astype(np.uint8).reshape(-1, 28, 28) # desapplati ...\n",
    "# images"
   ]
  },
  {
   "cell_type": "code",
   "execution_count": 68,
   "id": "8b6d4021",
   "metadata": {},
   "outputs": [
    {
     "data": {
      "text/plain": [
       "array([11684, 38438, 19958, ..., 48784, 37580,  6167])"
      ]
     },
     "execution_count": 68,
     "metadata": {},
     "output_type": "execute_result"
    }
   ],
   "source": [
    "n = labels.shape[0]\n",
    "idx = np.arange(n)\n",
    "np.random.shuffle(idx)\n",
    "idx1 = idx[::2]\n",
    "idx2 = idx[1::2]\n",
    "idx1"
   ]
  },
  {
   "cell_type": "code",
   "execution_count": 69,
   "id": "c2e9598e",
   "metadata": {},
   "outputs": [
    {
     "data": {
      "text/plain": [
       "(30000, 28, 28)"
      ]
     },
     "execution_count": 69,
     "metadata": {},
     "output_type": "execute_result"
    }
   ],
   "source": [
    "images[idx1, ...].shape"
   ]
  },
  {
   "cell_type": "code",
   "execution_count": 70,
   "id": "cc82463c",
   "metadata": {},
   "outputs": [
    {
     "data": {
      "application/vnd.plotly.v1+json": {
       "config": {
        "plotlyServerURL": "https://plot.ly"
       },
       "data": [
        {
         "coloraxis": "coloraxis",
         "hovertemplate": "x: %{x}<br>y: %{y}<br>color: %{z}<extra></extra>",
         "name": "0",
         "type": "heatmap",
         "xaxis": "x",
         "yaxis": "y",
         "z": [
          [
           0,
           0,
           0,
           0,
           0,
           0,
           0,
           0,
           0,
           0,
           0,
           0,
           0,
           0,
           0,
           0,
           0,
           0,
           0,
           0,
           0,
           0,
           0,
           0,
           0,
           0,
           0,
           0
          ],
          [
           0,
           0,
           0,
           0,
           0,
           0,
           0,
           0,
           0,
           0,
           0,
           0,
           0,
           0,
           0,
           0,
           0,
           0,
           0,
           0,
           0,
           0,
           0,
           0,
           0,
           0,
           0,
           0
          ],
          [
           0,
           0,
           0,
           0,
           0,
           0,
           0,
           0,
           0,
           0,
           0,
           0,
           0,
           0,
           0,
           0,
           0,
           0,
           0,
           0,
           0,
           0,
           0,
           0,
           0,
           0,
           0,
           0
          ],
          [
           0,
           0,
           0,
           0,
           0,
           0,
           0,
           0,
           0,
           0,
           0,
           0,
           0,
           0,
           0,
           0,
           0,
           0,
           0,
           0,
           0,
           0,
           0,
           0,
           0,
           0,
           0,
           0
          ],
          [
           0,
           0,
           0,
           0,
           0,
           0,
           0,
           0,
           0,
           0,
           0,
           0,
           0,
           0,
           0,
           0,
           0,
           0,
           0,
           0,
           0,
           0,
           0,
           0,
           0,
           0,
           0,
           0
          ],
          [
           0,
           0,
           0,
           0,
           0,
           0,
           0,
           0,
           0,
           0,
           0,
           0,
           3,
           18,
           18,
           18,
           126,
           136,
           175,
           26,
           166,
           255,
           247,
           127,
           0,
           0,
           0,
           0
          ],
          [
           0,
           0,
           0,
           0,
           0,
           0,
           0,
           0,
           30,
           36,
           94,
           154,
           170,
           253,
           253,
           253,
           253,
           253,
           225,
           172,
           253,
           242,
           195,
           64,
           0,
           0,
           0,
           0
          ],
          [
           0,
           0,
           0,
           0,
           0,
           0,
           0,
           49,
           238,
           253,
           253,
           253,
           253,
           253,
           253,
           253,
           253,
           251,
           93,
           82,
           82,
           56,
           39,
           0,
           0,
           0,
           0,
           0
          ],
          [
           0,
           0,
           0,
           0,
           0,
           0,
           0,
           18,
           219,
           253,
           253,
           253,
           253,
           253,
           198,
           182,
           247,
           241,
           0,
           0,
           0,
           0,
           0,
           0,
           0,
           0,
           0,
           0
          ],
          [
           0,
           0,
           0,
           0,
           0,
           0,
           0,
           0,
           80,
           156,
           107,
           253,
           253,
           205,
           11,
           0,
           43,
           154,
           0,
           0,
           0,
           0,
           0,
           0,
           0,
           0,
           0,
           0
          ],
          [
           0,
           0,
           0,
           0,
           0,
           0,
           0,
           0,
           0,
           14,
           1,
           154,
           253,
           90,
           0,
           0,
           0,
           0,
           0,
           0,
           0,
           0,
           0,
           0,
           0,
           0,
           0,
           0
          ],
          [
           0,
           0,
           0,
           0,
           0,
           0,
           0,
           0,
           0,
           0,
           0,
           139,
           253,
           190,
           2,
           0,
           0,
           0,
           0,
           0,
           0,
           0,
           0,
           0,
           0,
           0,
           0,
           0
          ],
          [
           0,
           0,
           0,
           0,
           0,
           0,
           0,
           0,
           0,
           0,
           0,
           11,
           190,
           253,
           70,
           0,
           0,
           0,
           0,
           0,
           0,
           0,
           0,
           0,
           0,
           0,
           0,
           0
          ],
          [
           0,
           0,
           0,
           0,
           0,
           0,
           0,
           0,
           0,
           0,
           0,
           0,
           35,
           241,
           225,
           160,
           108,
           1,
           0,
           0,
           0,
           0,
           0,
           0,
           0,
           0,
           0,
           0
          ],
          [
           0,
           0,
           0,
           0,
           0,
           0,
           0,
           0,
           0,
           0,
           0,
           0,
           0,
           81,
           240,
           253,
           253,
           119,
           25,
           0,
           0,
           0,
           0,
           0,
           0,
           0,
           0,
           0
          ],
          [
           0,
           0,
           0,
           0,
           0,
           0,
           0,
           0,
           0,
           0,
           0,
           0,
           0,
           0,
           45,
           186,
           253,
           253,
           150,
           27,
           0,
           0,
           0,
           0,
           0,
           0,
           0,
           0
          ],
          [
           0,
           0,
           0,
           0,
           0,
           0,
           0,
           0,
           0,
           0,
           0,
           0,
           0,
           0,
           0,
           16,
           93,
           252,
           253,
           187,
           0,
           0,
           0,
           0,
           0,
           0,
           0,
           0
          ],
          [
           0,
           0,
           0,
           0,
           0,
           0,
           0,
           0,
           0,
           0,
           0,
           0,
           0,
           0,
           0,
           0,
           0,
           249,
           253,
           249,
           64,
           0,
           0,
           0,
           0,
           0,
           0,
           0
          ],
          [
           0,
           0,
           0,
           0,
           0,
           0,
           0,
           0,
           0,
           0,
           0,
           0,
           0,
           0,
           46,
           130,
           183,
           253,
           253,
           207,
           2,
           0,
           0,
           0,
           0,
           0,
           0,
           0
          ],
          [
           0,
           0,
           0,
           0,
           0,
           0,
           0,
           0,
           0,
           0,
           0,
           0,
           39,
           148,
           229,
           253,
           253,
           253,
           250,
           182,
           0,
           0,
           0,
           0,
           0,
           0,
           0,
           0
          ],
          [
           0,
           0,
           0,
           0,
           0,
           0,
           0,
           0,
           0,
           0,
           24,
           114,
           221,
           253,
           253,
           253,
           253,
           201,
           78,
           0,
           0,
           0,
           0,
           0,
           0,
           0,
           0,
           0
          ],
          [
           0,
           0,
           0,
           0,
           0,
           0,
           0,
           0,
           23,
           66,
           213,
           253,
           253,
           253,
           253,
           198,
           81,
           2,
           0,
           0,
           0,
           0,
           0,
           0,
           0,
           0,
           0,
           0
          ],
          [
           0,
           0,
           0,
           0,
           0,
           0,
           18,
           171,
           219,
           253,
           253,
           253,
           253,
           195,
           80,
           9,
           0,
           0,
           0,
           0,
           0,
           0,
           0,
           0,
           0,
           0,
           0,
           0
          ],
          [
           0,
           0,
           0,
           0,
           55,
           172,
           226,
           253,
           253,
           253,
           253,
           244,
           133,
           11,
           0,
           0,
           0,
           0,
           0,
           0,
           0,
           0,
           0,
           0,
           0,
           0,
           0,
           0
          ],
          [
           0,
           0,
           0,
           0,
           136,
           253,
           253,
           253,
           212,
           135,
           132,
           16,
           0,
           0,
           0,
           0,
           0,
           0,
           0,
           0,
           0,
           0,
           0,
           0,
           0,
           0,
           0,
           0
          ],
          [
           0,
           0,
           0,
           0,
           0,
           0,
           0,
           0,
           0,
           0,
           0,
           0,
           0,
           0,
           0,
           0,
           0,
           0,
           0,
           0,
           0,
           0,
           0,
           0,
           0,
           0,
           0,
           0
          ],
          [
           0,
           0,
           0,
           0,
           0,
           0,
           0,
           0,
           0,
           0,
           0,
           0,
           0,
           0,
           0,
           0,
           0,
           0,
           0,
           0,
           0,
           0,
           0,
           0,
           0,
           0,
           0,
           0
          ],
          [
           0,
           0,
           0,
           0,
           0,
           0,
           0,
           0,
           0,
           0,
           0,
           0,
           0,
           0,
           0,
           0,
           0,
           0,
           0,
           0,
           0,
           0,
           0,
           0,
           0,
           0,
           0,
           0
          ]
         ]
        }
       ],
       "layout": {
        "coloraxis": {
         "colorscale": [
          [
           0,
           "#0d0887"
          ],
          [
           0.1111111111111111,
           "#46039f"
          ],
          [
           0.2222222222222222,
           "#7201a8"
          ],
          [
           0.3333333333333333,
           "#9c179e"
          ],
          [
           0.4444444444444444,
           "#bd3786"
          ],
          [
           0.5555555555555556,
           "#d8576b"
          ],
          [
           0.6666666666666666,
           "#ed7953"
          ],
          [
           0.7777777777777778,
           "#fb9f3a"
          ],
          [
           0.8888888888888888,
           "#fdca26"
          ],
          [
           1,
           "#f0f921"
          ]
         ]
        },
        "margin": {
         "t": 60
        },
        "template": {
         "data": {
          "bar": [
           {
            "error_x": {
             "color": "#2a3f5f"
            },
            "error_y": {
             "color": "#2a3f5f"
            },
            "marker": {
             "line": {
              "color": "#E5ECF6",
              "width": 0.5
             },
             "pattern": {
              "fillmode": "overlay",
              "size": 10,
              "solidity": 0.2
             }
            },
            "type": "bar"
           }
          ],
          "barpolar": [
           {
            "marker": {
             "line": {
              "color": "#E5ECF6",
              "width": 0.5
             },
             "pattern": {
              "fillmode": "overlay",
              "size": 10,
              "solidity": 0.2
             }
            },
            "type": "barpolar"
           }
          ],
          "carpet": [
           {
            "aaxis": {
             "endlinecolor": "#2a3f5f",
             "gridcolor": "white",
             "linecolor": "white",
             "minorgridcolor": "white",
             "startlinecolor": "#2a3f5f"
            },
            "baxis": {
             "endlinecolor": "#2a3f5f",
             "gridcolor": "white",
             "linecolor": "white",
             "minorgridcolor": "white",
             "startlinecolor": "#2a3f5f"
            },
            "type": "carpet"
           }
          ],
          "choropleth": [
           {
            "colorbar": {
             "outlinewidth": 0,
             "ticks": ""
            },
            "type": "choropleth"
           }
          ],
          "contour": [
           {
            "colorbar": {
             "outlinewidth": 0,
             "ticks": ""
            },
            "colorscale": [
             [
              0,
              "#0d0887"
             ],
             [
              0.1111111111111111,
              "#46039f"
             ],
             [
              0.2222222222222222,
              "#7201a8"
             ],
             [
              0.3333333333333333,
              "#9c179e"
             ],
             [
              0.4444444444444444,
              "#bd3786"
             ],
             [
              0.5555555555555556,
              "#d8576b"
             ],
             [
              0.6666666666666666,
              "#ed7953"
             ],
             [
              0.7777777777777778,
              "#fb9f3a"
             ],
             [
              0.8888888888888888,
              "#fdca26"
             ],
             [
              1,
              "#f0f921"
             ]
            ],
            "type": "contour"
           }
          ],
          "contourcarpet": [
           {
            "colorbar": {
             "outlinewidth": 0,
             "ticks": ""
            },
            "type": "contourcarpet"
           }
          ],
          "heatmap": [
           {
            "colorbar": {
             "outlinewidth": 0,
             "ticks": ""
            },
            "colorscale": [
             [
              0,
              "#0d0887"
             ],
             [
              0.1111111111111111,
              "#46039f"
             ],
             [
              0.2222222222222222,
              "#7201a8"
             ],
             [
              0.3333333333333333,
              "#9c179e"
             ],
             [
              0.4444444444444444,
              "#bd3786"
             ],
             [
              0.5555555555555556,
              "#d8576b"
             ],
             [
              0.6666666666666666,
              "#ed7953"
             ],
             [
              0.7777777777777778,
              "#fb9f3a"
             ],
             [
              0.8888888888888888,
              "#fdca26"
             ],
             [
              1,
              "#f0f921"
             ]
            ],
            "type": "heatmap"
           }
          ],
          "heatmapgl": [
           {
            "colorbar": {
             "outlinewidth": 0,
             "ticks": ""
            },
            "colorscale": [
             [
              0,
              "#0d0887"
             ],
             [
              0.1111111111111111,
              "#46039f"
             ],
             [
              0.2222222222222222,
              "#7201a8"
             ],
             [
              0.3333333333333333,
              "#9c179e"
             ],
             [
              0.4444444444444444,
              "#bd3786"
             ],
             [
              0.5555555555555556,
              "#d8576b"
             ],
             [
              0.6666666666666666,
              "#ed7953"
             ],
             [
              0.7777777777777778,
              "#fb9f3a"
             ],
             [
              0.8888888888888888,
              "#fdca26"
             ],
             [
              1,
              "#f0f921"
             ]
            ],
            "type": "heatmapgl"
           }
          ],
          "histogram": [
           {
            "marker": {
             "pattern": {
              "fillmode": "overlay",
              "size": 10,
              "solidity": 0.2
             }
            },
            "type": "histogram"
           }
          ],
          "histogram2d": [
           {
            "colorbar": {
             "outlinewidth": 0,
             "ticks": ""
            },
            "colorscale": [
             [
              0,
              "#0d0887"
             ],
             [
              0.1111111111111111,
              "#46039f"
             ],
             [
              0.2222222222222222,
              "#7201a8"
             ],
             [
              0.3333333333333333,
              "#9c179e"
             ],
             [
              0.4444444444444444,
              "#bd3786"
             ],
             [
              0.5555555555555556,
              "#d8576b"
             ],
             [
              0.6666666666666666,
              "#ed7953"
             ],
             [
              0.7777777777777778,
              "#fb9f3a"
             ],
             [
              0.8888888888888888,
              "#fdca26"
             ],
             [
              1,
              "#f0f921"
             ]
            ],
            "type": "histogram2d"
           }
          ],
          "histogram2dcontour": [
           {
            "colorbar": {
             "outlinewidth": 0,
             "ticks": ""
            },
            "colorscale": [
             [
              0,
              "#0d0887"
             ],
             [
              0.1111111111111111,
              "#46039f"
             ],
             [
              0.2222222222222222,
              "#7201a8"
             ],
             [
              0.3333333333333333,
              "#9c179e"
             ],
             [
              0.4444444444444444,
              "#bd3786"
             ],
             [
              0.5555555555555556,
              "#d8576b"
             ],
             [
              0.6666666666666666,
              "#ed7953"
             ],
             [
              0.7777777777777778,
              "#fb9f3a"
             ],
             [
              0.8888888888888888,
              "#fdca26"
             ],
             [
              1,
              "#f0f921"
             ]
            ],
            "type": "histogram2dcontour"
           }
          ],
          "mesh3d": [
           {
            "colorbar": {
             "outlinewidth": 0,
             "ticks": ""
            },
            "type": "mesh3d"
           }
          ],
          "parcoords": [
           {
            "line": {
             "colorbar": {
              "outlinewidth": 0,
              "ticks": ""
             }
            },
            "type": "parcoords"
           }
          ],
          "pie": [
           {
            "automargin": true,
            "type": "pie"
           }
          ],
          "scatter": [
           {
            "marker": {
             "colorbar": {
              "outlinewidth": 0,
              "ticks": ""
             }
            },
            "type": "scatter"
           }
          ],
          "scatter3d": [
           {
            "line": {
             "colorbar": {
              "outlinewidth": 0,
              "ticks": ""
             }
            },
            "marker": {
             "colorbar": {
              "outlinewidth": 0,
              "ticks": ""
             }
            },
            "type": "scatter3d"
           }
          ],
          "scattercarpet": [
           {
            "marker": {
             "colorbar": {
              "outlinewidth": 0,
              "ticks": ""
             }
            },
            "type": "scattercarpet"
           }
          ],
          "scattergeo": [
           {
            "marker": {
             "colorbar": {
              "outlinewidth": 0,
              "ticks": ""
             }
            },
            "type": "scattergeo"
           }
          ],
          "scattergl": [
           {
            "marker": {
             "colorbar": {
              "outlinewidth": 0,
              "ticks": ""
             }
            },
            "type": "scattergl"
           }
          ],
          "scattermapbox": [
           {
            "marker": {
             "colorbar": {
              "outlinewidth": 0,
              "ticks": ""
             }
            },
            "type": "scattermapbox"
           }
          ],
          "scatterpolar": [
           {
            "marker": {
             "colorbar": {
              "outlinewidth": 0,
              "ticks": ""
             }
            },
            "type": "scatterpolar"
           }
          ],
          "scatterpolargl": [
           {
            "marker": {
             "colorbar": {
              "outlinewidth": 0,
              "ticks": ""
             }
            },
            "type": "scatterpolargl"
           }
          ],
          "scatterternary": [
           {
            "marker": {
             "colorbar": {
              "outlinewidth": 0,
              "ticks": ""
             }
            },
            "type": "scatterternary"
           }
          ],
          "surface": [
           {
            "colorbar": {
             "outlinewidth": 0,
             "ticks": ""
            },
            "colorscale": [
             [
              0,
              "#0d0887"
             ],
             [
              0.1111111111111111,
              "#46039f"
             ],
             [
              0.2222222222222222,
              "#7201a8"
             ],
             [
              0.3333333333333333,
              "#9c179e"
             ],
             [
              0.4444444444444444,
              "#bd3786"
             ],
             [
              0.5555555555555556,
              "#d8576b"
             ],
             [
              0.6666666666666666,
              "#ed7953"
             ],
             [
              0.7777777777777778,
              "#fb9f3a"
             ],
             [
              0.8888888888888888,
              "#fdca26"
             ],
             [
              1,
              "#f0f921"
             ]
            ],
            "type": "surface"
           }
          ],
          "table": [
           {
            "cells": {
             "fill": {
              "color": "#EBF0F8"
             },
             "line": {
              "color": "white"
             }
            },
            "header": {
             "fill": {
              "color": "#C8D4E3"
             },
             "line": {
              "color": "white"
             }
            },
            "type": "table"
           }
          ]
         },
         "layout": {
          "annotationdefaults": {
           "arrowcolor": "#2a3f5f",
           "arrowhead": 0,
           "arrowwidth": 1
          },
          "autotypenumbers": "strict",
          "coloraxis": {
           "colorbar": {
            "outlinewidth": 0,
            "ticks": ""
           }
          },
          "colorscale": {
           "diverging": [
            [
             0,
             "#8e0152"
            ],
            [
             0.1,
             "#c51b7d"
            ],
            [
             0.2,
             "#de77ae"
            ],
            [
             0.3,
             "#f1b6da"
            ],
            [
             0.4,
             "#fde0ef"
            ],
            [
             0.5,
             "#f7f7f7"
            ],
            [
             0.6,
             "#e6f5d0"
            ],
            [
             0.7,
             "#b8e186"
            ],
            [
             0.8,
             "#7fbc41"
            ],
            [
             0.9,
             "#4d9221"
            ],
            [
             1,
             "#276419"
            ]
           ],
           "sequential": [
            [
             0,
             "#0d0887"
            ],
            [
             0.1111111111111111,
             "#46039f"
            ],
            [
             0.2222222222222222,
             "#7201a8"
            ],
            [
             0.3333333333333333,
             "#9c179e"
            ],
            [
             0.4444444444444444,
             "#bd3786"
            ],
            [
             0.5555555555555556,
             "#d8576b"
            ],
            [
             0.6666666666666666,
             "#ed7953"
            ],
            [
             0.7777777777777778,
             "#fb9f3a"
            ],
            [
             0.8888888888888888,
             "#fdca26"
            ],
            [
             1,
             "#f0f921"
            ]
           ],
           "sequentialminus": [
            [
             0,
             "#0d0887"
            ],
            [
             0.1111111111111111,
             "#46039f"
            ],
            [
             0.2222222222222222,
             "#7201a8"
            ],
            [
             0.3333333333333333,
             "#9c179e"
            ],
            [
             0.4444444444444444,
             "#bd3786"
            ],
            [
             0.5555555555555556,
             "#d8576b"
            ],
            [
             0.6666666666666666,
             "#ed7953"
            ],
            [
             0.7777777777777778,
             "#fb9f3a"
            ],
            [
             0.8888888888888888,
             "#fdca26"
            ],
            [
             1,
             "#f0f921"
            ]
           ]
          },
          "colorway": [
           "#636efa",
           "#EF553B",
           "#00cc96",
           "#ab63fa",
           "#FFA15A",
           "#19d3f3",
           "#FF6692",
           "#B6E880",
           "#FF97FF",
           "#FECB52"
          ],
          "font": {
           "color": "#2a3f5f"
          },
          "geo": {
           "bgcolor": "white",
           "lakecolor": "white",
           "landcolor": "#E5ECF6",
           "showlakes": true,
           "showland": true,
           "subunitcolor": "white"
          },
          "hoverlabel": {
           "align": "left"
          },
          "hovermode": "closest",
          "mapbox": {
           "style": "light"
          },
          "paper_bgcolor": "white",
          "plot_bgcolor": "#E5ECF6",
          "polar": {
           "angularaxis": {
            "gridcolor": "white",
            "linecolor": "white",
            "ticks": ""
           },
           "bgcolor": "#E5ECF6",
           "radialaxis": {
            "gridcolor": "white",
            "linecolor": "white",
            "ticks": ""
           }
          },
          "scene": {
           "xaxis": {
            "backgroundcolor": "#E5ECF6",
            "gridcolor": "white",
            "gridwidth": 2,
            "linecolor": "white",
            "showbackground": true,
            "ticks": "",
            "zerolinecolor": "white"
           },
           "yaxis": {
            "backgroundcolor": "#E5ECF6",
            "gridcolor": "white",
            "gridwidth": 2,
            "linecolor": "white",
            "showbackground": true,
            "ticks": "",
            "zerolinecolor": "white"
           },
           "zaxis": {
            "backgroundcolor": "#E5ECF6",
            "gridcolor": "white",
            "gridwidth": 2,
            "linecolor": "white",
            "showbackground": true,
            "ticks": "",
            "zerolinecolor": "white"
           }
          },
          "shapedefaults": {
           "line": {
            "color": "#2a3f5f"
           }
          },
          "ternary": {
           "aaxis": {
            "gridcolor": "white",
            "linecolor": "white",
            "ticks": ""
           },
           "baxis": {
            "gridcolor": "white",
            "linecolor": "white",
            "ticks": ""
           },
           "bgcolor": "#E5ECF6",
           "caxis": {
            "gridcolor": "white",
            "linecolor": "white",
            "ticks": ""
           }
          },
          "title": {
           "x": 0.05
          },
          "xaxis": {
           "automargin": true,
           "gridcolor": "white",
           "linecolor": "white",
           "ticks": "",
           "title": {
            "standoff": 15
           },
           "zerolinecolor": "white",
           "zerolinewidth": 2
          },
          "yaxis": {
           "automargin": true,
           "gridcolor": "white",
           "linecolor": "white",
           "ticks": "",
           "title": {
            "standoff": 15
           },
           "zerolinecolor": "white",
           "zerolinewidth": 2
          }
         }
        },
        "xaxis": {
         "anchor": "y",
         "constrain": "domain",
         "domain": [
          0,
          1
         ],
         "scaleanchor": "y"
        },
        "yaxis": {
         "anchor": "x",
         "autorange": "reversed",
         "constrain": "domain",
         "domain": [
          0,
          1
         ]
        }
       }
      }
     },
     "metadata": {},
     "output_type": "display_data"
    }
   ],
   "source": [
    "fig = px.imshow(images[0])\n",
    "fig.show()"
   ]
  },
  {
   "cell_type": "code",
   "execution_count": 71,
   "id": "1a0dfdac",
   "metadata": {
    "scrolled": true
   },
   "outputs": [
    {
     "data": {
      "text/plain": [
       "array([13,  7,  6, ...,  9,  7, 13], dtype=uint8)"
      ]
     },
     "execution_count": 71,
     "metadata": {},
     "output_type": "execute_result"
    }
   ],
   "source": [
    "train_y_ = labels[idx1] + labels[idx2]\n",
    "train_y_"
   ]
  },
  {
   "cell_type": "code",
   "execution_count": 72,
   "id": "4b89706f",
   "metadata": {},
   "outputs": [
    {
     "data": {
      "text/plain": [
       "(30000, 19)"
      ]
     },
     "execution_count": 72,
     "metadata": {},
     "output_type": "execute_result"
    }
   ],
   "source": [
    "enc = OneHotEncoder(handle_unknown='ignore')\n",
    "train_y = enc.fit_transform((labels[idx1] + labels[idx2]).reshape(-1, 1)).todense()\n",
    "train_y.shape"
   ]
  },
  {
   "cell_type": "code",
   "execution_count": 73,
   "id": "773efdfb",
   "metadata": {},
   "outputs": [
    {
     "data": {
      "text/plain": [
       "matrix([[0., 0., 0., 0., 0., 0., 0., 0., 0., 0., 0., 0., 0., 1., 0., 0.,\n",
       "         0., 0., 0.]])"
      ]
     },
     "execution_count": 73,
     "metadata": {},
     "output_type": "execute_result"
    }
   ],
   "source": [
    "train_y[0]"
   ]
  },
  {
   "cell_type": "code",
   "execution_count": 74,
   "id": "ca60fd41",
   "metadata": {},
   "outputs": [],
   "source": [
    "train_x = np.concatenate([images[idx1, ...], images[idx2, ...]], axis=2) # concatene images sur le 2e axe"
   ]
  },
  {
   "cell_type": "code",
   "execution_count": 75,
   "id": "ceabbda2",
   "metadata": {},
   "outputs": [],
   "source": [
    "train_x = train_x.reshape(-1, 28*56) # re applatir pour le réseau"
   ]
  },
  {
   "cell_type": "code",
   "execution_count": 76,
   "id": "089011ea",
   "metadata": {
    "scrolled": true
   },
   "outputs": [
    {
     "data": {
      "text/plain": [
       "array([[0, 0, 0, ..., 0, 0, 0],\n",
       "       [0, 0, 0, ..., 0, 0, 0],\n",
       "       [0, 0, 0, ..., 0, 0, 0],\n",
       "       ...,\n",
       "       [0, 0, 0, ..., 0, 0, 0],\n",
       "       [0, 0, 0, ..., 0, 0, 0],\n",
       "       [0, 0, 0, ..., 0, 0, 0]], dtype=uint8)"
      ]
     },
     "execution_count": 76,
     "metadata": {},
     "output_type": "execute_result"
    }
   ],
   "source": [
    "train_x[0, :].reshape(28, 56)"
   ]
  },
  {
   "cell_type": "code",
   "execution_count": 77,
   "id": "7a885ed1",
   "metadata": {},
   "outputs": [],
   "source": [
    "train_x = scale(train_x)"
   ]
  },
  {
   "cell_type": "code",
   "execution_count": 78,
   "id": "9f533681",
   "metadata": {},
   "outputs": [
    {
     "data": {
      "application/vnd.plotly.v1+json": {
       "config": {
        "plotlyServerURL": "https://plot.ly"
       },
       "data": [
        {
         "coloraxis": "coloraxis",
         "hovertemplate": "x: %{x}<br>y: %{y}<br>color: %{z}<extra></extra>",
         "name": "0",
         "type": "heatmap",
         "xaxis": "x",
         "yaxis": "y",
         "z": [
          [
           0,
           0,
           0,
           0,
           0,
           0,
           0,
           0,
           0,
           0,
           0,
           0,
           -0.005773598919348092,
           -0.005773598919346918,
           0,
           0,
           0,
           0,
           0,
           0,
           0,
           0,
           0,
           0,
           0,
           0,
           0,
           0,
           0,
           0,
           0,
           0,
           0,
           0,
           0,
           0,
           0,
           0,
           0,
           0,
           -0.005773598919348242,
           -0.005773598919348358,
           -0.005773598919348358,
           -0.005773598919346696,
           0,
           0,
           0,
           0,
           0,
           0,
           0,
           0,
           0,
           0,
           0,
           0
          ],
          [
           0,
           0,
           0,
           0,
           -0.005773598919347081,
           -0.005773598919347996,
           -0.011250968020431821,
           -0.012285293727427931,
           -0.013460893512896505,
           -0.01956469793315962,
           -0.027359607887027893,
           -0.032123919231252344,
           -0.03369792678648611,
           -0.03212615462891142,
           -0.031691357517788565,
           -0.03111208268015342,
           -0.031144383745986347,
           -0.026956172111603404,
           -0.023030135481739166,
           -0.021172234955773014,
           -0.019531942598087926,
           -0.01284211623375926,
           -0.008486988424301933,
           -0.005773598919346919,
           0,
           0,
           0,
           0,
           0,
           0,
           0,
           0,
           0,
           -0.005773598919348046,
           -0.005773598919347115,
           -0.01171400940310245,
           -0.01595391107163767,
           -0.019120018163248105,
           -0.021723165928642693,
           -0.025679551301709326,
           -0.027175043421028763,
           -0.030174398049800363,
           -0.03223850147443415,
           -0.029265116884008877,
           -0.03147599558341717,
           -0.029744853768980783,
           -0.02324061178009963,
           -0.016954224388384738,
           -0.013458954241175249,
           -0.008865222987476027,
           -0.008165187009466078,
           -0.005773598919348523,
           0,
           0,
           0,
           0
          ],
          [
           0,
           0,
           0,
           0,
           -0.010526037597051785,
           -0.014398839909949099,
           -0.018901110436769453,
           -0.026383521460204788,
           -0.037686609485227666,
           -0.05435774807282567,
           -0.07128278299533557,
           -0.0880121455667235,
           -0.1039205465577513,
           -0.11808510377501094,
           -0.12976495610171146,
           -0.1372764833235577,
           -0.1383558187564878,
           -0.13453925015473991,
           -0.12423000733934147,
           -0.10409719225224531,
           -0.07838308104830702,
           -0.05571123147294072,
           -0.03922622907567984,
           -0.022967411308352177,
           -0.012858948280003233,
           -0.007618760035346382,
           0,
           0,
           0,
           0,
           -0.005773598919347409,
           -0.007630282517334351,
           -0.006205767757000003,
           -0.008979624903666205,
           -0.01647848141305631,
           -0.02919650836778173,
           -0.03649232686502818,
           -0.04990657950010243,
           -0.0625403816412272,
           -0.07784344907415831,
           -0.09463164581906462,
           -0.11222601838079958,
           -0.128499824605751,
           -0.13953166163319888,
           -0.13941706566522893,
           -0.1291180760914839,
           -0.11651837100537236,
           -0.09963957445098864,
           -0.07886199218147148,
           -0.05825421823323458,
           -0.04009106124648865,
           -0.024469776662160596,
           -0.01533853208006988,
           -0.008381709306288353,
           0,
           0
          ],
          [
           0,
           0,
           -0.007048072317655912,
           -0.006584411946828923,
           -0.014773485907322473,
           -0.02376005619686894,
           -0.03746766259738496,
           -0.056051110079469973,
           -0.08108777315056324,
           -0.10985949002513982,
           -0.1394098442634174,
           -0.16914447386431294,
           0.06377361548077627,
           4.141497160414993,
           2.1043908588426334,
           -0.2612288316325645,
           -0.2629456263852515,
           -0.2493921352965918,
           -0.22275344155800614,
           -0.18770292390757579,
           -0.14728239278325297,
           -0.10824584940490914,
           -0.07963756641292599,
           -0.04649522706014667,
           -0.029060424088058243,
           -0.013258267558919656,
           -0.005773598919347183,
           0,
           0,
           0,
           -0.005773598919346614,
           -0.010800021462870334,
           -0.01360587211731455,
           -0.021035442139156896,
           -0.032734108237261125,
           -0.05399331108402664,
           -0.07706017631074491,
           -0.10539468818850929,
           -0.13489573399731522,
           -0.16504496641750863,
           -0.19383087940743068,
           -0.22429333465002213,
           -0.249025096485535,
           -0.2630063457357178,
           -0.26225194637011556,
           -0.24632584513778832,
           -0.22114279453435004,
           -0.18671972394135486,
           -0.14800976436671262,
           -0.10810907726146289,
           -0.07388132203925739,
           -0.04764856379947679,
           -0.03140699311163704,
           -0.01700950227808389,
           -0.005773598919348808,
           0
          ],
          [
           0,
           -0.005773598919348387,
           -0.010979469002429647,
           -0.014488398831362223,
           -0.02177102773070692,
           -0.051270061484254344,
           -0.07961285233995596,
           -0.1176710133098637,
           -0.16415457438518133,
           -0.21351599814170522,
           -0.26931337023331553,
           -0.3106485704538353,
           1.9758372425562865,
           2.836156648440065,
           2.27985298701624,
           -0.3239027310755465,
           -0.5170125532241937,
           -0.48239452119807313,
           -0.42401944401309855,
           -0.35599457710247956,
           -0.2849627611490509,
           -0.2174444691434436,
           -0.15873256888437248,
           -0.10984973284569155,
           -0.07266431828471823,
           -0.04178110758208709,
           -0.01748315703785931,
           -0.008160852498335364,
           0,
           0,
           0,
           -0.015710083449419234,
           -0.02602934786336891,
           -0.049394459572087074,
           -0.07836142233188562,
           -0.11468388619182236,
           -0.1583018170882852,
           -0.21042526218783333,
           -0.2644685951988473,
           -0.324041568653536,
           -0.39001702943336164,
           -0.4539937405194451,
           -0.5013338209858762,
           -0.5254832533671959,
           -0.5182272279036495,
           -0.47941470442645095,
           -0.4221391251096517,
           -0.3574872611007835,
           -0.28240175710235005,
           -0.21623717838643958,
           -0.1583185253504462,
           -0.10777418116887866,
           -0.06918169593113949,
           -0.03592341470730862,
           -0.010120588328120567,
           0
          ],
          [
           0,
           0,
           -0.013811527659825198,
           -0.0206109864486168,
           -0.050910126223876716,
           -0.09119062797331527,
           -0.13970402270038382,
           -0.19803828727799538,
           -0.2640746424960195,
           -0.34001566597460964,
           -0.42395727050658977,
           0.11333167945450782,
           2.0459253892277696,
           1.7549581559773786,
           0.8339255911123279,
           -0.752402920322992,
           -0.8261363019914636,
           -0.7646154135040721,
           -0.6682308131945198,
           -0.5562473087083957,
           -0.4494712993170473,
           -0.3488319824325863,
           -0.26235665633934696,
           -0.19206664677138013,
           -0.13506512400228898,
           -0.07821477025076817,
           -0.03417603067794237,
           -0.007638320475430439,
           0,
           0,
           -0.009645584132748627,
           -0.02340254934728459,
           -0.052750898533076615,
           -0.09012852728236634,
           -0.13963672415085038,
           -0.19612212904648213,
           -0.26471766549990156,
           -0.34144453791643825,
           -0.4211123486759869,
           -0.5149233472139444,
           -0.6172345144460288,
           -0.716073074835748,
           -0.7949932191430279,
           -0.8346942059330368,
           -0.8222394299213257,
           -0.7610659784813674,
           -0.6648891910269042,
           -0.5562585826816894,
           -0.44581766571220216,
           -0.34641587106336774,
           -0.2593188415109137,
           -0.18853165228056973,
           -0.12697932824391592,
           -0.07145494572211694,
           -0.029713743358650707,
           -0.008821419447070272
          ],
          [
           0,
           -0.0057735989193470035,
           -0.014157920519977892,
           -0.03448095467889323,
           -0.07986665591349362,
           -0.13567567885329437,
           -0.20086607392851602,
           -0.27632996739431936,
           -0.3651263199019819,
           -0.46502809019760855,
           -0.5768923525092182,
           1.3362089294299893,
           1.529456049436127,
           1.0576826211382375,
           -0.8232621737993145,
           -1.1039260217990987,
           -1.0849194612594135,
           -0.9990739943763001,
           -0.8749176621137457,
           -0.723715186356317,
           -0.5814246542704851,
           -0.4543511876516937,
           -0.3414628038213414,
           -0.25202243650427525,
           -0.17685915269301827,
           -0.10672227023434586,
           -0.05002820244462572,
           -0.012984606884783796,
           0,
           -0.005773598919349763,
           -0.01725621090061347,
           -0.03825738210218808,
           0.8395017162804908,
           8.434151449288636,
           6.62644831385033,
           2.3952942638350248,
           -0.22558766922757084,
           -0.4611305859300021,
           -0.5728000357769476,
           -0.6982260722522774,
           -0.830252433755575,
           -0.9563250348508773,
           -1.058146410505078,
           -1.105511360290669,
           -1.0820984928780264,
           -0.9988293916275482,
           -0.8745776151978103,
           -0.7254058114015226,
           -0.5798008425828904,
           -0.4499720257790772,
           -0.33717830797241805,
           -0.24580858006048484,
           -0.1689416772355492,
           -0.10142298916317398,
           -0.046616885187895904,
           -0.01687168770282546
          ],
          [
           -0.005773598919349984,
           -0.013041239501039812,
           -0.025381828382359712,
           -0.058157471353933336,
           -0.11238244641053143,
           -0.17835809532157815,
           -0.2581872279230672,
           -0.3536213627403032,
           -0.4622862138588213,
           -0.5866526112647473,
           0.09431352049896424,
           1.4878673641183553,
           1.294535453489809,
           -0.22023045858387533,
           -1.202179079938125,
           -1.2312451229194488,
           -1.2101521306547292,
           -1.1415928945911225,
           -1.0214465789150275,
           -0.8624083893343067,
           -0.6885468677039406,
           -0.5324358243204735,
           -0.3999070835585565,
           -0.2906629647847555,
           -0.19925850830484346,
           -0.12397635530286287,
           -0.059607244525419496,
           -0.013777384532610947,
           0,
           -0.013457642177220149,
           -0.02709750525595953,
           -0.0601743031565735,
           0.9793507575528013,
           6.880130717123037,
           5.013066009189407,
           3.649992171502778,
           2.371498686844301,
           0.5730731240911859,
           -0.573516910266199,
           -0.8762284904738988,
           -1.0150491822579308,
           -1.1299996140082502,
           -1.2022003013596851,
           -1.227836970071326,
           -1.2092436263117148,
           -1.1476370619500222,
           -1.0248074342080302,
           -0.8635005261421492,
           -0.6924188825913422,
           -0.5333681238034326,
           -0.39518437589520056,
           -0.2846791773998864,
           -0.1947397134446479,
           -0.11842571240867697,
           -0.05410759174791945,
           -0.01685813571123147
          ],
          [
           -0.00710721008184939,
           -0.018057747603229098,
           -0.042575925969283245,
           -0.08403061057827133,
           -0.1375118730219286,
           -0.21185386729033356,
           -0.30201630991301803,
           -0.409375380486029,
           -0.5354688631214671,
           -0.6809139620776151,
           0.5936370529732694,
           1.3220313411999456,
           0.8694097417874462,
           -1.0636292482180365,
           -1.1108501653998617,
           -1.1072845084396612,
           -1.1068085400922745,
           -1.0949281263655246,
           -1.036712893926067,
           -0.9078358952855243,
           -0.735770673300583,
           -0.5695838127465737,
           -0.4253464179710302,
           -0.29974228154438676,
           -0.19964100912820756,
           -0.12130528945364803,
           -0.054531371788531964,
           -0.011034437659454369,
           0,
           -0.01739149244780323,
           -0.043595706033659656,
           -0.08645336220923064,
           -0.14138970964755432,
           0.1376678768158147,
           3.2940243557808944,
           3.0927040419673633,
           2.3614363827828226,
           1.854083976087079,
           1.183787913604137,
           0.43584266893248563,
           -0.1757503798227897,
           -0.9456563305136582,
           -1.1023516267988225,
           -1.1010171021122481,
           -1.109242436952512,
           -1.1055115457482578,
           -1.050913025743228,
           -0.9181452055996747,
           -0.74261905369125,
           -0.5724283818063247,
           -0.42199323547419015,
           -0.29664791886404007,
           -0.1957226450955515,
           -0.12006181256288848,
           -0.05343497647194242,
           -0.015643686778883083
          ],
          [
           -0.0075121762897363015,
           -0.021112934440378227,
           -0.052077603213458,
           -0.0905970011061495,
           -0.14702225391308915,
           -0.22572931073345093,
           -0.3229901242099401,
           -0.44415478861062263,
           -0.5821786028797743,
           -0.7460369420938755,
           1.227714332632578,
           1.2966026000894657,
           -0.06060717532597828,
           -0.9525577248978953,
           -0.9111900846488095,
           -0.9136773677856107,
           -0.923303656601377,
           -0.26166238048148655,
           -0.7196022756499787,
           -0.8959160229740321,
           -0.7330758411409023,
           -0.567121680932058,
           -0.42085258228012273,
           -0.2908238996329119,
           -0.18130596316356043,
           -0.10336481263276215,
           -0.04590257397907348,
           -0.009809684853499197,
           -0.005773598919346906,
           -0.02111630151069601,
           -0.05388684394188568,
           -0.09552234023307211,
           -0.15372116465089572,
           -0.22665821997676872,
           0.62155845764063,
           0.6374456008185894,
           1.2993052783160959,
           1.581831310719136,
           1.3898646256194553,
           1.2679252733157205,
           1.2764402305249758,
           0.9640160545568832,
           0.5434578970588841,
           -0.2979558109123602,
           0.5991099442886303,
           0.517428576524341,
           0.5090172597740896,
           0.6339040046213419,
           -0.2916047195614251,
           -0.5680571591335363,
           -0.4194909456513067,
           -0.28952536951197283,
           -0.18165967059727456,
           -0.1064959177797035,
           -0.04850445199993957,
           -0.017443199854148137
          ],
          [
           -0.005773598919346738,
           -0.01993128625916188,
           -0.05058204766765364,
           -0.08939051868863625,
           -0.14462380193908903,
           -0.22690971307767618,
           -0.33396703764026847,
           -0.46378441702126916,
           -0.617180509654726,
           -0.3741176124906078,
           1.3601270006826947,
           0.546379125207703,
           -0.8697473852199551,
           -0.7980769768760941,
           -0.7743586929352579,
           -0.26211606600032233,
           1.1101195302091866,
           1.371666724899004,
           1.0712683270476362,
           -0.7659411487705469,
           -0.7002617807252766,
           -0.5361781453153233,
           -0.39508787192251027,
           -0.2707888615966518,
           -0.15974471704335969,
           -0.0795740491061321,
           -0.03683590103600866,
           -0.009810919803999226,
           -0.005800515927484372,
           -0.025100929882577765,
           -0.054937233527985796,
           -0.09495042871302083,
           -0.15023464210878398,
           -0.22766004573186038,
           -0.3308854573088863,
           -0.4616112362843754,
           -0.6208872553885295,
           -0.2355727300448455,
           0.8837907049462216,
           1.3449160898461605,
           1.472044684787659,
           1.3669403010269692,
           1.6862129487471627,
           1.6020386226352943,
           1.4808422213689063,
           1.345224668863205,
           1.3127265232975514,
           1.4486910285426828,
           1.0433439532965854,
           -0.47195891204372464,
           -0.3984534996429577,
           -0.2716589721392511,
           -0.15891014386650024,
           -0.08291018054120271,
           -0.03710289321703199,
           -0.013785858239230344
          ],
          [
           -0.007408363372120542,
           -0.017843554091775914,
           -0.04544226235872352,
           -0.08007784559508546,
           -0.13546559841004657,
           -0.22538032022888116,
           -0.3392480445835414,
           -0.4813549343704686,
           -0.6456810908966828,
           0.32630327626136146,
           1.4110217215771672,
           -0.13502376889405943,
           -0.7853961403909119,
           -0.7317632201839853,
           -0.011586418774211576,
           1.4836401425424102,
           1.4477028451282754,
           1.3383655872353755,
           1.3519840050199097,
           0.9184524787632745,
           -0.656928653337057,
           -0.4994606139571201,
           -0.3690059482918479,
           -0.2589014135207637,
           -0.15157587065948852,
           -0.0606312477938019,
           -0.02848898473448554,
           -0.009069961247662803,
           -0.006703718261756145,
           -0.023665690242590513,
           -0.04899790956395123,
           -0.0838867776438557,
           -0.1394242835431768,
           -0.2250120483147733,
           -0.3377385402873295,
           -0.48451765858148566,
           -0.6508988898126713,
           -0.811773830169262,
           -0.6912881414252575,
           -0.3220098245091441,
           -0.20879724340758554,
           -0.3538000766836828,
           1.0798534284868169,
           1.5792868667515227,
           1.446324029077567,
           1.3181908399160114,
           1.3286438140958063,
           1.5180051935647747,
           1.899861860496499,
           -0.21703114993432937,
           -0.37014031956737337,
           -0.2580399015446006,
           -0.14780367381565931,
           -0.06159694069230025,
           -0.027563632457419298,
           -0.00917990733642801
          ],
          [
           -0.005773598919348562,
           -0.013119118248315766,
           -0.03585374009398298,
           -0.06678388811795369,
           -0.12460561482533303,
           -0.22560966043722452,
           -0.35226878346467566,
           -0.5060437350606269,
           -0.6794135099669552,
           0.2445820642553299,
           1.1062258244184708,
           -0.8034314169316783,
           -0.7673848651916649,
           -0.4242289365036603,
           1.4147062539953188,
           1.3653693909975426,
           1.2827060331444708,
           1.1239865545462557,
           0.9672529506479868,
           1.4032479156032256,
           -0.6178697510417523,
           -0.4701984155015098,
           -0.3552298881794374,
           -0.2550884560841496,
           -0.15353746906640195,
           -0.05297988597916057,
           -0.023130376412810523,
           -0.009058641094071377,
           -0.005773598919348266,
           -0.018868612094631084,
           -0.03704438306260089,
           -0.07041296304153445,
           -0.13007638179693332,
           -0.22667757520896986,
           -0.3521499077363559,
           -0.5091231127321298,
           -0.6794866879576661,
           -0.8285398537525694,
           -0.8882021583446733,
           -0.8434532217230729,
           -0.7656846636398947,
           -0.7670578009156807,
           -0.7704017710437633,
           -0.21814872584933517,
           1.2748228356932958,
           1.2146874617416819,
           1.3088098273729107,
           1.5857565736467045,
           1.7151808649193965,
           -0.2735060776016561,
           -0.35501900543380177,
           -0.25572667581468067,
           -0.15411197917983918,
           -0.05192519349055459,
           -0.01977485923684461,
           -0.011111581234353492
          ],
          [
           0,
           -0.009927992420499179,
           -0.028321870866188724,
           -0.056623559338899794,
           -0.12377956508631553,
           -0.2371717333995378,
           -0.3735641990392767,
           -0.5334782092270217,
           -0.7035046694457469,
           0.45928413093092535,
           1.117113494345788,
           -0.8055706344074816,
           -0.8189880725160656,
           0.4995314120120476,
           1.2465345445634064,
           1.1659133510903041,
           0.5250373175497275,
           -0.8287523316552532,
           -0.8925530765534455,
           1.6199352626869188,
           -0.04647438891301229,
           -0.4612922126641369,
           -0.3558228793113954,
           -0.26331799848459814,
           -0.16445107301795053,
           -0.06101589905234958,
           -0.024847238951126848,
           -0.009146681003387506,
           -0.005773598919347887,
           -0.01194865188991264,
           -0.02242744282897427,
           -0.05755475664921568,
           -0.12555912033766475,
           -0.23982018456482293,
           -0.3729551806434851,
           -0.5327961445515487,
           -0.7006871491136897,
           -0.8372040970451833,
           -0.8811252893314866,
           -0.8395714117431432,
           -0.8146116613746684,
           -0.8865382974322928,
           -0.789322673010009,
           0.8867387495204415,
           1.1158254784396329,
           1.1210866137241018,
           1.2888309920956538,
           1.6437710313307856,
           0.6022123378455521,
           -0.46053354087134074,
           -0.3551796510003811,
           -0.26378058250134656,
           -0.1645590805467228,
           -0.058024115747118084,
           -0.02184995944495484,
           -0.008117422976102006
          ],
          [
           -0.005773598919349102,
           -0.008922475133107769,
           -0.020288075306847765,
           -0.05046762967723029,
           -0.127778951880728,
           -0.25678593071118216,
           -0.39482198930575974,
           -0.5509901412347715,
           -0.7072231006415819,
           -0.18420613919953957,
           1.453774546455135,
           -0.5523553046503912,
           -0.1999176858778733,
           0.9939685429610534,
           1.0834100128296698,
           0.5888569733832453,
           -1.1312474315990213,
           -1.1324429006286767,
           -0.6980954665010249,
           1.6759159737966183,
           0.8068273284925647,
           -0.4727930941591499,
           -0.36901680197039677,
           -0.274323700623884,
           -0.17318270034728328,
           -0.07116197287406809,
           -0.026330118626307648,
           -0.009878384019039045,
           0,
           -0.007331766392814079,
           -0.01653069085550646,
           -0.05219734148913822,
           -0.13089678457204043,
           -0.2582580913081103,
           -0.39520406471064173,
           -0.5498535436598265,
           -0.7074230821062568,
           -0.8276737367981511,
           -0.8679710984649511,
           -0.8560693114301714,
           -0.8987779228408675,
           -1.028029996516509,
           -0.46435575124224926,
           1.0348191779205465,
           1.0460904214319802,
           1.1057707920738402,
           1.308783041775964,
           1.3157850262507063,
           -0.37392898494734406,
           -0.4712476944997284,
           -0.36772614376670365,
           -0.2723244801177721,
           -0.1735949460044189,
           -0.06670421531047573,
           -0.022857960443092767,
           0
          ],
          [
           -0.006746271518230737,
           -0.00592479792226343,
           -0.018814493942527877,
           -0.05195781474078807,
           -0.1389745722917996,
           -0.2761672532316852,
           -0.41150718843430517,
           -0.5535273592401511,
           -0.6910130358069926,
           -0.22588845899137971,
           1.4994070706260132,
           -0.08651297979793718,
           1.1008523861570332,
           1.1572171728415355,
           0.6120011260711701,
           -0.8512029037737795,
           -1.1801286588592856,
           -1.0706462153567937,
           0.12347160448398213,
           1.6889752598392982,
           0.608322115811488,
           -0.4876073200861487,
           -0.38346572346479246,
           -0.27997770204108036,
           -0.17714905213411777,
           -0.0798590229953128,
           -0.02922685410203962,
           -0.009059906139574999,
           0,
           0,
           -0.018888668199056317,
           -0.05468104513457995,
           -0.1418545392475142,
           -0.27819136081701473,
           -0.4129110418412146,
           -0.5544797936969265,
           -0.6929998137639759,
           -0.79557989034644,
           -0.8427665147732327,
           -0.8701409477567154,
           -0.9582164771878421,
           -1.092082336481238,
           0.08580670012593436,
           1.040204870828901,
           1.083148489717726,
           1.1589979012668123,
           1.3725929694478676,
           -0.24613531275017894,
           -0.6113481809195741,
           -0.48590057885873794,
           -0.37832303631615494,
           -0.2766128322662953,
           -0.1738245696297621,
           -0.07409286233601144,
           -0.030040907178758715,
           -0.009206418590069888
          ],
          [
           -0.005773598919349411,
           -0.008418213873667245,
           -0.02014733635301623,
           -0.05717362206193658,
           -0.15484149505609646,
           -0.29547480193538583,
           -0.4205889512887087,
           -0.5431846009981017,
           -0.6592699794253044,
           -0.5412430265898165,
           1.4830790657258917,
           1.527872676034291,
           1.3938261711109248,
           1.115921856034356,
           -0.815417252676633,
           -1.143693606110561,
           -1.0750988521274063,
           -0.9935792040118254,
           1.1915515145856848,
           1.7068578807271664,
           0.027994907819378582,
           -0.4947748117820643,
           -0.3816563638257347,
           -0.27639919378726935,
           -0.17730151522743615,
           -0.08714189686626321,
           -0.03198901344164618,
           -0.010195542699276831,
           0,
           -0.005773598919347814,
           -0.02298733858914135,
           -0.06408083256041057,
           -0.15918137398878643,
           -0.29884508878730526,
           -0.42402268581521557,
           -0.5482683424444823,
           -0.6589308744614485,
           -0.7413311849756875,
           -0.7890008631414916,
           -0.8338683950724672,
           -0.919917703064658,
           -0.3428346014173146,
           1.1344464679530626,
           1.1364995473871962,
           1.188071924947435,
           1.2744706341632455,
           1.427955016686551,
           -0.30525543374722497,
           -0.6163311567112773,
           -0.4913835382287404,
           -0.3780881228577745,
           -0.27062460854611603,
           -0.16970871508295451,
           -0.08090752072119468,
           -0.036210227699073914,
           -0.008492768661601634
          ],
          [
           0,
           -0.007603472267902795,
           -0.024549453889668418,
           -0.0720498248808561,
           -0.17658119300385136,
           -0.31228919744053063,
           -0.4279201095080756,
           -0.5327802893230648,
           -0.6183518348740776,
           -0.6817550662266991,
           0.9955638461942845,
           1.5906411546574484,
           1.5090766917398903,
           -0.1718893126589603,
           -1.0085044459265833,
           -1.032024920857478,
           -1.0057200109734366,
           -0.6004523523364759,
           1.4874235004639145,
           1.689496184901517,
           -0.033277008296028435,
           -0.4872869718865934,
           -0.3692451639620441,
           -0.26422230694394844,
           -0.1704918037147533,
           -0.09065278707135162,
           -0.03375474049585796,
           -0.011536742639959689,
           0,
           -0.010105102166733868,
           -0.02628724249049779,
           -0.07572783582052621,
           -0.17913227150590771,
           -0.3144862491468073,
           -0.4301049907479908,
           -0.5373965261285633,
           -0.623213697098565,
           -0.6836239760492622,
           -0.7252937947420824,
           -0.7672307709917693,
           -0.8243537089612372,
           0.2813253139973881,
           1.258001919881089,
           1.2306983415692974,
           1.2633674877661427,
           1.3414863718729901,
           0.17377840460655236,
           -0.7430201024360964,
           -0.6145856007955893,
           -0.4830234471730159,
           -0.36683674014831824,
           -0.257312309410818,
           -0.1661509837292086,
           -0.08638272822398721,
           -0.03800601465019391,
           -0.00997636288607052
          ],
          [
           -0.005773598919342568,
           -0.008165237988414708,
           -0.03137879207026342,
           -0.09080950900845712,
           -0.19823710080259807,
           -0.32763522853642607,
           -0.4369397705616883,
           -0.5305941543745077,
           -0.6021725375468673,
           -0.6594205118165616,
           0.4560337293016099,
           0.9934062082910449,
           -0.2467510551877996,
           -0.8725405651355934,
           -0.9586314710281267,
           -1.010276245882467,
           -0.5496396568440794,
           1.11484793795239,
           1.4755276076962236,
           1.0657106823179823,
           -0.5945417630088343,
           -0.4646920448481305,
           -0.35048118173859655,
           -0.2476745748037957,
           -0.1579383135263832,
           -0.08428094707144679,
           -0.031764350362192675,
           -0.008657916971625577,
           -0.0081385281158922,
           -0.008336117776063095,
           -0.03522664758600161,
           -0.09185484070813699,
           -0.19997970707672905,
           -0.32830270732633965,
           -0.44104907151029854,
           -0.5383116010010587,
           -0.6097290256273569,
           -0.6593898388883751,
           -0.6959576486781216,
           -0.7294380946025769,
           -0.7799539561523449,
           0.5160192348992403,
           1.3184038658655957,
           1.2695059343118051,
           1.280726283936841,
           1.3345213854347278,
           -0.3114944802467503,
           -0.7320150883532097,
           -0.5952799757759953,
           -0.46216532509758596,
           -0.34705927731039576,
           -0.24409078012517682,
           -0.15846883746600776,
           -0.08658077433707402,
           -0.0314467658325546,
           -0.01075191272442081
          ],
          [
           -0.005773598919346945,
           -0.009747198993749257,
           -0.03530350602377684,
           -0.10065653565943601,
           -0.2115673909684229,
           -0.3362548290377649,
           -0.44862932729911004,
           -0.5492903404574411,
           -0.6304580099244081,
           -0.6957667881553591,
           -0.6111809325913021,
           1.3830975188989731,
           -0.35467765608718377,
           -0.9213730350780198,
           -1.0078584083318243,
           -0.3286142799047926,
           1.1323900324270206,
           1.3191604560487946,
           1.4262474935709906,
           -0.5657193687560609,
           -0.554587414386753,
           -0.428750260316544,
           -0.3198788061845468,
           -0.22184301228804149,
           -0.13848562394278469,
           -0.07703383530853081,
           -0.031246863721273048,
           -0.005773598919343837,
           0,
           -0.012740898917995172,
           -0.04376294059561077,
           -0.10695706654555286,
           -0.212393886328354,
           -0.33869838936678087,
           -0.4547685295382695,
           -0.5549766107800244,
           -0.633319427868688,
           -0.6906857413033303,
           -0.7333125504246336,
           -0.7658877198228605,
           -0.8242487342034005,
           1.178033564475112,
           1.2598408182461827,
           1.2183378707969965,
           1.2378561602233924,
           0.9502120567660347,
           -0.6641148002978721,
           -0.7002410288615951,
           -0.5561850717979958,
           -0.42539708696305595,
           -0.3137231964999082,
           -0.2195300443850359,
           -0.14360309574974403,
           -0.07930851884161944,
           -0.02696129022617044,
           -0.010298026094024611
          ],
          [
           0,
           -0.008838486754132043,
           -0.04187971353307794,
           -0.10664085120060217,
           -0.20768373601950735,
           -0.3280302444550305,
           -0.4518503412450129,
           -0.5667583403044182,
           -0.6720086093006977,
           -0.7642995190916663,
           -0.8347710163232025,
           0.44418902951394723,
           1.1988674936934554,
           0.6747399222408572,
           0.8444143279581835,
           1.1081992309871658,
           1.219623158258739,
           1.357056651395153,
           0.5232683549849015,
           -0.6283281197600736,
           -0.48789509708434914,
           -0.3711789157930395,
           -0.27323166484320377,
           -0.18848379733283582,
           -0.1189670917265166,
           -0.06589551388822783,
           -0.027290843477561326,
           -0.005773598919346336,
           0,
           -0.011668738766847523,
           -0.04477822554865816,
           -0.111693204454782,
           -0.2103748990995691,
           -0.3324102308605595,
           -0.4578951695537826,
           -0.5716350546882886,
           -0.6738826358511024,
           -0.7569134302883568,
           -0.8227720970670935,
           -0.8789263422658796,
           -0.9528933881941333,
           0.9231262624363006,
           1.1473199605127868,
           1.1476906535264388,
           1.1139057712559541,
           -0.13263495719219798,
           -0.78648497585091,
           -0.6256589993379994,
           -0.48823112112201056,
           -0.3667201418881011,
           -0.26531926238815035,
           -0.18594193358240893,
           -0.12423624145387595,
           -0.06708831111147537,
           -0.02472008447195148,
           -0.005773598919348644
          ],
          [
           0,
           -0.008926773392494744,
           -0.04011426892446115,
           -0.09948109575489772,
           -0.18724557134570632,
           -0.29790814325518056,
           -0.42357161225237183,
           -0.5517863137813703,
           -0.6806868958693149,
           -0.8054554233349999,
           -0.9148439673286807,
           -0.927351199740988,
           0.7823538955986167,
           1.1177833250402904,
           1.1020467781321983,
           1.1587056696696487,
           1.1447847960020137,
           -0.27685381575781615,
           -0.657098742214092,
           -0.5221548856947172,
           -0.39934507578631495,
           -0.2978710983807296,
           -0.2137456790103368,
           -0.14851444808286482,
           -0.0955055931213284,
           -0.04877075941296575,
           -0.020648478579162136,
           -0.005773598919344752,
           -0.005773598919347015,
           -0.011170042315735438,
           -0.04090803134858313,
           -0.10048822692458885,
           -0.18919274247749163,
           -0.30134810622334407,
           -0.4309150465866111,
           -0.558717538275916,
           -0.6828690634590774,
           -0.7977303232323424,
           -0.9025046544651705,
           -0.7136380486543629,
           0.6025904321752523,
           1.1226663198362359,
           1.0980568541965139,
           1.159761730544887,
           0.5446441701875857,
           -0.8302601469866865,
           -0.6671358033060786,
           -0.52323405557836,
           -0.3987857343497871,
           -0.29552788429414456,
           -0.21150313832231366,
           -0.14889546290597688,
           -0.0982694041138342,
           -0.05300751933572717,
           -0.02002929218217397,
           0
          ],
          [
           0,
           -0.005773598919349584,
           -0.0327195697962315,
           -0.07778881948501354,
           -0.1482914528447567,
           -0.2417953727620558,
           -0.35805494177106767,
           -0.48389726342000633,
           -0.6206867209988085,
           -0.7582894675726365,
           -0.8921355275936076,
           -1.0079965936257729,
           -0.7396390766930249,
           0.7884427842692923,
           1.1933313046185392,
           0.7066864595594026,
           -0.5658992119396073,
           -0.6635709541415403,
           -0.523308551308541,
           -0.4019753053934691,
           -0.30365021486879507,
           -0.22336205778236182,
           -0.15976481434405973,
           -0.10964546837084245,
           -0.06868140332273097,
           -0.03588899535310012,
           -0.011929409547916292,
           -0.005773598919346669,
           -0.005773598919346396,
           -0.007601389099524631,
           -0.03474750153746688,
           -0.08014269856760044,
           -0.14719207978272528,
           -0.24470640926536588,
           -0.3626298912772121,
           -0.4889870906254425,
           -0.6241397503483129,
           -0.7551206706864672,
           -0.8853481071078432,
           -0.0212162868061191,
           1.1669752318818227,
           1.1503807151712067,
           1.1839928977154133,
           1.3126032928051399,
           -0.03438475684241683,
           -0.6657412914524727,
           -0.5238820815498364,
           -0.40231045581020897,
           -0.3025045756323296,
           -0.21999519129494607,
           -0.15896861663911596,
           -0.11051192179345652,
           -0.07137886258229281,
           -0.038350502227090286,
           -0.01318518322360702,
           0
          ],
          [
           0,
           0,
           -0.020919523974357083,
           -0.052682609558289885,
           -0.10063875242607886,
           -0.16874064947045286,
           -0.2581365720164107,
           -0.36748632936707193,
           -0.48875684082636256,
           -0.6131252040161066,
           -0.7374524597782566,
           -0.8422579553893172,
           -0.9018052322774138,
           -0.9000300413981898,
           -0.8409199629848456,
           -0.7343624278284551,
           -0.6097084256489246,
           -0.4902148686443068,
           -0.378311727190604,
           -0.2882129623068961,
           -0.2133362153575362,
           -0.15517397769371793,
           -0.11194141745294305,
           -0.07682495056860257,
           -0.042109762449583546,
           -0.017252723239367388,
           -0.008019521427398223,
           0,
           0,
           0,
           -0.024450385620324568,
           -0.05114232682958751,
           -0.09935430108883461,
           -0.1681416091774879,
           -0.2624888200273118,
           -0.3721811644223109,
           -0.49144273074825545,
           -0.617619851869498,
           -0.7405058679658253,
           -0.6978604278676419,
           -0.5772077756470331,
           1.4019295602599513,
           1.5056621417693818,
           1.719645277453036,
           0.27559299335772636,
           -0.4939278842804816,
           -0.3815423902952528,
           -0.28942184412293126,
           -0.21356499923485944,
           -0.15216819666211728,
           -0.10624986922162569,
           -0.07128616267290178,
           -0.044493929432889885,
           -0.02125771907468005,
           -0.01243609593069097,
           0
          ],
          [
           0,
           0,
           -0.010542841541853289,
           -0.030539403597917868,
           -0.06003816955503671,
           -0.0960159147738797,
           -0.153170591700299,
           -0.22561481492806146,
           -0.30471479407878,
           -0.3878416288489268,
           -0.4690120351882328,
           -0.5309732115516513,
           -0.5633383122550649,
           -0.5601073677159214,
           -0.5243912250995655,
           -0.4657202354373072,
           -0.39328155673767606,
           -0.32273918032297066,
           -0.25395940593284105,
           -0.19271767400663942,
           -0.1437723317403244,
           -0.10431919187819916,
           -0.07412979682409288,
           -0.050042893983275334,
           -0.02554635803228515,
           -0.008819895669755846,
           -0.005773598919346547,
           0,
           0,
           0,
           -0.01366996356946653,
           -0.026889622707271844,
           -0.054998672756120734,
           -0.0946643330487536,
           -0.15404886215434735,
           -0.22122120563949957,
           -0.3024414916534966,
           -0.3891180089286918,
           -0.4713798867713406,
           -0.5352747778201272,
           -0.5696734724766751,
           1.6591808095306235,
           2.3955273196513307,
           2.7541971636956335,
           0.8136413258185731,
           -0.32683225288217055,
           -0.25744947794510226,
           -0.19649188716660057,
           -0.14537739196092256,
           -0.09918123836475652,
           -0.06867019475790927,
           -0.04541178324517657,
           -0.02658631104842505,
           -0.013486183202413408,
           -0.005773598919352412,
           0
          ],
          [
           0,
           0,
           -0.009424954311269416,
           -0.012173459350568861,
           -0.02869867419600276,
           -0.04987884176809574,
           -0.08357222995113563,
           -0.12734325800303917,
           -0.17491324488065974,
           -0.2222033114310186,
           -0.26515769295447555,
           -0.2930823053215216,
           -0.3068436894099748,
           -0.30329014394108494,
           -0.28915068931576454,
           -0.2641726254169722,
           -0.23394465077776044,
           -0.19905468231210002,
           -0.1601856343105974,
           -0.1252632877466302,
           -0.09278674723468439,
           -0.06591337172338416,
           -0.04733590261183173,
           -0.02932017136746132,
           -0.01429124011449159,
           0,
           0,
           0,
           0,
           0,
           0,
           -0.010011761301395332,
           -0.02651029343292129,
           -0.05318740563392708,
           -0.08986301393582623,
           -0.12944820353923417,
           -0.17663509412937745,
           -0.223903010971096,
           -0.26811691892798345,
           -0.29659945437538027,
           -0.3081677207794966,
           0.9891474413773874,
           4.358541321637675,
           4.854926353159455,
           1.6433355631467332,
           -0.20300289481074413,
           -0.16714324277716078,
           -0.1300404618770355,
           -0.09513226104144522,
           -0.06545269502178641,
           -0.04452189539434596,
           -0.028109882830923614,
           -0.01748742571298761,
           -0.008026224195380483,
           -0.005773598919349518,
           0
          ],
          [
           0,
           0,
           0,
           -0.005773598919348639,
           -0.01684586002396339,
           -0.030348206392751056,
           -0.05211348939485488,
           -0.0798217854020153,
           -0.10768539435980658,
           -0.1325212211570038,
           -0.1574437520838006,
           -0.17532817273630297,
           -0.18351538901421463,
           -0.1798018418472444,
           -0.17040227118847798,
           -0.15438922819712125,
           -0.13595583746326612,
           -0.11581366194271454,
           -0.0926040941576611,
           -0.07146280924953234,
           -0.05125555256098899,
           -0.03393637221229461,
           -0.0206621750691175,
           -0.010495665588762254,
           -0.0057735989193428315,
           -0.005773598919349561,
           0,
           0,
           0,
           0,
           0,
           0,
           -0.013371976326738332,
           -0.03235929915803518,
           -0.05457487664862854,
           -0.07863077819925171,
           -0.10910473141653584,
           -0.13542622169669336,
           -0.15758299899828696,
           -0.17489725685457752,
           -0.1817371261155986,
           -0.18126741489992276,
           -0.16935005995272828,
           -0.15191637623839607,
           -0.13491724527451215,
           -0.11715498684406807,
           -0.09528107303146052,
           -0.07367471642154111,
           -0.053450927152964935,
           -0.03867699708623027,
           -0.022356153288209297,
           -0.015140263952619663,
           -0.005773598919350313,
           0,
           0,
           0
          ],
          [
           0,
           0,
           0,
           0,
           -0.005773598919351215,
           -0.009031785194630984,
           -0.01644373512007709,
           -0.024892341854422646,
           -0.028571302168536632,
           -0.03306036248446669,
           -0.04646556698051405,
           -0.05069204707552182,
           -0.05589637043703036,
           -0.058683683679387894,
           -0.060888514640039186,
           -0.055866923214436176,
           -0.05132429299046622,
           -0.04135574480269211,
           -0.03166175328396864,
           -0.022813175962561064,
           -0.015848036833814045,
           -0.007184323583204164,
           -0.005773598919345336,
           0,
           0,
           0,
           0,
           0,
           0,
           0,
           0,
           0,
           -0.006505094618726647,
           -0.009076815105334967,
           -0.01555582733656836,
           -0.019006628425651144,
           -0.025154430845691206,
           -0.030588933223575917,
           -0.04085432777387239,
           -0.043715205983954904,
           -0.05027141115091355,
           -0.054613484295995815,
           -0.059809449735142795,
           -0.056738311627737785,
           -0.05142701585943908,
           -0.04387573562548334,
           -0.03464631337327101,
           -0.022123352002240613,
           -0.01633657735258185,
           -0.014484924387279764,
           -0.012447556836752537,
           -0.008160705219859909,
           0,
           0,
           0,
           0
          ]
         ]
        }
       ],
       "layout": {
        "coloraxis": {
         "colorscale": [
          [
           0,
           "#0d0887"
          ],
          [
           0.1111111111111111,
           "#46039f"
          ],
          [
           0.2222222222222222,
           "#7201a8"
          ],
          [
           0.3333333333333333,
           "#9c179e"
          ],
          [
           0.4444444444444444,
           "#bd3786"
          ],
          [
           0.5555555555555556,
           "#d8576b"
          ],
          [
           0.6666666666666666,
           "#ed7953"
          ],
          [
           0.7777777777777778,
           "#fb9f3a"
          ],
          [
           0.8888888888888888,
           "#fdca26"
          ],
          [
           1,
           "#f0f921"
          ]
         ]
        },
        "margin": {
         "t": 60
        },
        "template": {
         "data": {
          "bar": [
           {
            "error_x": {
             "color": "#2a3f5f"
            },
            "error_y": {
             "color": "#2a3f5f"
            },
            "marker": {
             "line": {
              "color": "#E5ECF6",
              "width": 0.5
             },
             "pattern": {
              "fillmode": "overlay",
              "size": 10,
              "solidity": 0.2
             }
            },
            "type": "bar"
           }
          ],
          "barpolar": [
           {
            "marker": {
             "line": {
              "color": "#E5ECF6",
              "width": 0.5
             },
             "pattern": {
              "fillmode": "overlay",
              "size": 10,
              "solidity": 0.2
             }
            },
            "type": "barpolar"
           }
          ],
          "carpet": [
           {
            "aaxis": {
             "endlinecolor": "#2a3f5f",
             "gridcolor": "white",
             "linecolor": "white",
             "minorgridcolor": "white",
             "startlinecolor": "#2a3f5f"
            },
            "baxis": {
             "endlinecolor": "#2a3f5f",
             "gridcolor": "white",
             "linecolor": "white",
             "minorgridcolor": "white",
             "startlinecolor": "#2a3f5f"
            },
            "type": "carpet"
           }
          ],
          "choropleth": [
           {
            "colorbar": {
             "outlinewidth": 0,
             "ticks": ""
            },
            "type": "choropleth"
           }
          ],
          "contour": [
           {
            "colorbar": {
             "outlinewidth": 0,
             "ticks": ""
            },
            "colorscale": [
             [
              0,
              "#0d0887"
             ],
             [
              0.1111111111111111,
              "#46039f"
             ],
             [
              0.2222222222222222,
              "#7201a8"
             ],
             [
              0.3333333333333333,
              "#9c179e"
             ],
             [
              0.4444444444444444,
              "#bd3786"
             ],
             [
              0.5555555555555556,
              "#d8576b"
             ],
             [
              0.6666666666666666,
              "#ed7953"
             ],
             [
              0.7777777777777778,
              "#fb9f3a"
             ],
             [
              0.8888888888888888,
              "#fdca26"
             ],
             [
              1,
              "#f0f921"
             ]
            ],
            "type": "contour"
           }
          ],
          "contourcarpet": [
           {
            "colorbar": {
             "outlinewidth": 0,
             "ticks": ""
            },
            "type": "contourcarpet"
           }
          ],
          "heatmap": [
           {
            "colorbar": {
             "outlinewidth": 0,
             "ticks": ""
            },
            "colorscale": [
             [
              0,
              "#0d0887"
             ],
             [
              0.1111111111111111,
              "#46039f"
             ],
             [
              0.2222222222222222,
              "#7201a8"
             ],
             [
              0.3333333333333333,
              "#9c179e"
             ],
             [
              0.4444444444444444,
              "#bd3786"
             ],
             [
              0.5555555555555556,
              "#d8576b"
             ],
             [
              0.6666666666666666,
              "#ed7953"
             ],
             [
              0.7777777777777778,
              "#fb9f3a"
             ],
             [
              0.8888888888888888,
              "#fdca26"
             ],
             [
              1,
              "#f0f921"
             ]
            ],
            "type": "heatmap"
           }
          ],
          "heatmapgl": [
           {
            "colorbar": {
             "outlinewidth": 0,
             "ticks": ""
            },
            "colorscale": [
             [
              0,
              "#0d0887"
             ],
             [
              0.1111111111111111,
              "#46039f"
             ],
             [
              0.2222222222222222,
              "#7201a8"
             ],
             [
              0.3333333333333333,
              "#9c179e"
             ],
             [
              0.4444444444444444,
              "#bd3786"
             ],
             [
              0.5555555555555556,
              "#d8576b"
             ],
             [
              0.6666666666666666,
              "#ed7953"
             ],
             [
              0.7777777777777778,
              "#fb9f3a"
             ],
             [
              0.8888888888888888,
              "#fdca26"
             ],
             [
              1,
              "#f0f921"
             ]
            ],
            "type": "heatmapgl"
           }
          ],
          "histogram": [
           {
            "marker": {
             "pattern": {
              "fillmode": "overlay",
              "size": 10,
              "solidity": 0.2
             }
            },
            "type": "histogram"
           }
          ],
          "histogram2d": [
           {
            "colorbar": {
             "outlinewidth": 0,
             "ticks": ""
            },
            "colorscale": [
             [
              0,
              "#0d0887"
             ],
             [
              0.1111111111111111,
              "#46039f"
             ],
             [
              0.2222222222222222,
              "#7201a8"
             ],
             [
              0.3333333333333333,
              "#9c179e"
             ],
             [
              0.4444444444444444,
              "#bd3786"
             ],
             [
              0.5555555555555556,
              "#d8576b"
             ],
             [
              0.6666666666666666,
              "#ed7953"
             ],
             [
              0.7777777777777778,
              "#fb9f3a"
             ],
             [
              0.8888888888888888,
              "#fdca26"
             ],
             [
              1,
              "#f0f921"
             ]
            ],
            "type": "histogram2d"
           }
          ],
          "histogram2dcontour": [
           {
            "colorbar": {
             "outlinewidth": 0,
             "ticks": ""
            },
            "colorscale": [
             [
              0,
              "#0d0887"
             ],
             [
              0.1111111111111111,
              "#46039f"
             ],
             [
              0.2222222222222222,
              "#7201a8"
             ],
             [
              0.3333333333333333,
              "#9c179e"
             ],
             [
              0.4444444444444444,
              "#bd3786"
             ],
             [
              0.5555555555555556,
              "#d8576b"
             ],
             [
              0.6666666666666666,
              "#ed7953"
             ],
             [
              0.7777777777777778,
              "#fb9f3a"
             ],
             [
              0.8888888888888888,
              "#fdca26"
             ],
             [
              1,
              "#f0f921"
             ]
            ],
            "type": "histogram2dcontour"
           }
          ],
          "mesh3d": [
           {
            "colorbar": {
             "outlinewidth": 0,
             "ticks": ""
            },
            "type": "mesh3d"
           }
          ],
          "parcoords": [
           {
            "line": {
             "colorbar": {
              "outlinewidth": 0,
              "ticks": ""
             }
            },
            "type": "parcoords"
           }
          ],
          "pie": [
           {
            "automargin": true,
            "type": "pie"
           }
          ],
          "scatter": [
           {
            "marker": {
             "colorbar": {
              "outlinewidth": 0,
              "ticks": ""
             }
            },
            "type": "scatter"
           }
          ],
          "scatter3d": [
           {
            "line": {
             "colorbar": {
              "outlinewidth": 0,
              "ticks": ""
             }
            },
            "marker": {
             "colorbar": {
              "outlinewidth": 0,
              "ticks": ""
             }
            },
            "type": "scatter3d"
           }
          ],
          "scattercarpet": [
           {
            "marker": {
             "colorbar": {
              "outlinewidth": 0,
              "ticks": ""
             }
            },
            "type": "scattercarpet"
           }
          ],
          "scattergeo": [
           {
            "marker": {
             "colorbar": {
              "outlinewidth": 0,
              "ticks": ""
             }
            },
            "type": "scattergeo"
           }
          ],
          "scattergl": [
           {
            "marker": {
             "colorbar": {
              "outlinewidth": 0,
              "ticks": ""
             }
            },
            "type": "scattergl"
           }
          ],
          "scattermapbox": [
           {
            "marker": {
             "colorbar": {
              "outlinewidth": 0,
              "ticks": ""
             }
            },
            "type": "scattermapbox"
           }
          ],
          "scatterpolar": [
           {
            "marker": {
             "colorbar": {
              "outlinewidth": 0,
              "ticks": ""
             }
            },
            "type": "scatterpolar"
           }
          ],
          "scatterpolargl": [
           {
            "marker": {
             "colorbar": {
              "outlinewidth": 0,
              "ticks": ""
             }
            },
            "type": "scatterpolargl"
           }
          ],
          "scatterternary": [
           {
            "marker": {
             "colorbar": {
              "outlinewidth": 0,
              "ticks": ""
             }
            },
            "type": "scatterternary"
           }
          ],
          "surface": [
           {
            "colorbar": {
             "outlinewidth": 0,
             "ticks": ""
            },
            "colorscale": [
             [
              0,
              "#0d0887"
             ],
             [
              0.1111111111111111,
              "#46039f"
             ],
             [
              0.2222222222222222,
              "#7201a8"
             ],
             [
              0.3333333333333333,
              "#9c179e"
             ],
             [
              0.4444444444444444,
              "#bd3786"
             ],
             [
              0.5555555555555556,
              "#d8576b"
             ],
             [
              0.6666666666666666,
              "#ed7953"
             ],
             [
              0.7777777777777778,
              "#fb9f3a"
             ],
             [
              0.8888888888888888,
              "#fdca26"
             ],
             [
              1,
              "#f0f921"
             ]
            ],
            "type": "surface"
           }
          ],
          "table": [
           {
            "cells": {
             "fill": {
              "color": "#EBF0F8"
             },
             "line": {
              "color": "white"
             }
            },
            "header": {
             "fill": {
              "color": "#C8D4E3"
             },
             "line": {
              "color": "white"
             }
            },
            "type": "table"
           }
          ]
         },
         "layout": {
          "annotationdefaults": {
           "arrowcolor": "#2a3f5f",
           "arrowhead": 0,
           "arrowwidth": 1
          },
          "autotypenumbers": "strict",
          "coloraxis": {
           "colorbar": {
            "outlinewidth": 0,
            "ticks": ""
           }
          },
          "colorscale": {
           "diverging": [
            [
             0,
             "#8e0152"
            ],
            [
             0.1,
             "#c51b7d"
            ],
            [
             0.2,
             "#de77ae"
            ],
            [
             0.3,
             "#f1b6da"
            ],
            [
             0.4,
             "#fde0ef"
            ],
            [
             0.5,
             "#f7f7f7"
            ],
            [
             0.6,
             "#e6f5d0"
            ],
            [
             0.7,
             "#b8e186"
            ],
            [
             0.8,
             "#7fbc41"
            ],
            [
             0.9,
             "#4d9221"
            ],
            [
             1,
             "#276419"
            ]
           ],
           "sequential": [
            [
             0,
             "#0d0887"
            ],
            [
             0.1111111111111111,
             "#46039f"
            ],
            [
             0.2222222222222222,
             "#7201a8"
            ],
            [
             0.3333333333333333,
             "#9c179e"
            ],
            [
             0.4444444444444444,
             "#bd3786"
            ],
            [
             0.5555555555555556,
             "#d8576b"
            ],
            [
             0.6666666666666666,
             "#ed7953"
            ],
            [
             0.7777777777777778,
             "#fb9f3a"
            ],
            [
             0.8888888888888888,
             "#fdca26"
            ],
            [
             1,
             "#f0f921"
            ]
           ],
           "sequentialminus": [
            [
             0,
             "#0d0887"
            ],
            [
             0.1111111111111111,
             "#46039f"
            ],
            [
             0.2222222222222222,
             "#7201a8"
            ],
            [
             0.3333333333333333,
             "#9c179e"
            ],
            [
             0.4444444444444444,
             "#bd3786"
            ],
            [
             0.5555555555555556,
             "#d8576b"
            ],
            [
             0.6666666666666666,
             "#ed7953"
            ],
            [
             0.7777777777777778,
             "#fb9f3a"
            ],
            [
             0.8888888888888888,
             "#fdca26"
            ],
            [
             1,
             "#f0f921"
            ]
           ]
          },
          "colorway": [
           "#636efa",
           "#EF553B",
           "#00cc96",
           "#ab63fa",
           "#FFA15A",
           "#19d3f3",
           "#FF6692",
           "#B6E880",
           "#FF97FF",
           "#FECB52"
          ],
          "font": {
           "color": "#2a3f5f"
          },
          "geo": {
           "bgcolor": "white",
           "lakecolor": "white",
           "landcolor": "#E5ECF6",
           "showlakes": true,
           "showland": true,
           "subunitcolor": "white"
          },
          "hoverlabel": {
           "align": "left"
          },
          "hovermode": "closest",
          "mapbox": {
           "style": "light"
          },
          "paper_bgcolor": "white",
          "plot_bgcolor": "#E5ECF6",
          "polar": {
           "angularaxis": {
            "gridcolor": "white",
            "linecolor": "white",
            "ticks": ""
           },
           "bgcolor": "#E5ECF6",
           "radialaxis": {
            "gridcolor": "white",
            "linecolor": "white",
            "ticks": ""
           }
          },
          "scene": {
           "xaxis": {
            "backgroundcolor": "#E5ECF6",
            "gridcolor": "white",
            "gridwidth": 2,
            "linecolor": "white",
            "showbackground": true,
            "ticks": "",
            "zerolinecolor": "white"
           },
           "yaxis": {
            "backgroundcolor": "#E5ECF6",
            "gridcolor": "white",
            "gridwidth": 2,
            "linecolor": "white",
            "showbackground": true,
            "ticks": "",
            "zerolinecolor": "white"
           },
           "zaxis": {
            "backgroundcolor": "#E5ECF6",
            "gridcolor": "white",
            "gridwidth": 2,
            "linecolor": "white",
            "showbackground": true,
            "ticks": "",
            "zerolinecolor": "white"
           }
          },
          "shapedefaults": {
           "line": {
            "color": "#2a3f5f"
           }
          },
          "ternary": {
           "aaxis": {
            "gridcolor": "white",
            "linecolor": "white",
            "ticks": ""
           },
           "baxis": {
            "gridcolor": "white",
            "linecolor": "white",
            "ticks": ""
           },
           "bgcolor": "#E5ECF6",
           "caxis": {
            "gridcolor": "white",
            "linecolor": "white",
            "ticks": ""
           }
          },
          "title": {
           "x": 0.05
          },
          "xaxis": {
           "automargin": true,
           "gridcolor": "white",
           "linecolor": "white",
           "ticks": "",
           "title": {
            "standoff": 15
           },
           "zerolinecolor": "white",
           "zerolinewidth": 2
          },
          "yaxis": {
           "automargin": true,
           "gridcolor": "white",
           "linecolor": "white",
           "ticks": "",
           "title": {
            "standoff": 15
           },
           "zerolinecolor": "white",
           "zerolinewidth": 2
          }
         }
        },
        "xaxis": {
         "anchor": "y",
         "constrain": "domain",
         "domain": [
          0,
          1
         ],
         "scaleanchor": "y"
        },
        "yaxis": {
         "anchor": "x",
         "autorange": "reversed",
         "constrain": "domain",
         "domain": [
          0,
          1
         ]
        }
       }
      }
     },
     "metadata": {},
     "output_type": "display_data"
    }
   ],
   "source": [
    "fig = px.imshow(train_x[0, :].reshape(28, 56))\n",
    "fig.show()"
   ]
  },
  {
   "cell_type": "code",
   "execution_count": 79,
   "id": "8a900c35",
   "metadata": {},
   "outputs": [],
   "source": [
    "df_test = pd.read_csv(mnist_test_csv, header=None) # data_frame"
   ]
  },
  {
   "cell_type": "code",
   "execution_count": 80,
   "id": "13cda2b3",
   "metadata": {},
   "outputs": [
    {
     "data": {
      "text/plain": [
       "(30000, 1568)"
      ]
     },
     "execution_count": 80,
     "metadata": {},
     "output_type": "execute_result"
    }
   ],
   "source": [
    "labels = df_train.iloc[:, 0] # iloc \"indice\" ; loc \"identifiant string\" ; iloc + rapide que loc\n",
    "labels = labels.values.astype(np.uint8) # transforme en array numpy\n",
    "images = df_train.iloc[:, 1:].values.astype(np.uint8).reshape(-1, 28, 28) # desapplati ...\n",
    "n = labels.shape[0]\n",
    "idx = np.arange(n)\n",
    "np.random.shuffle(idx)\n",
    "idx1 = idx[::2]\n",
    "idx2 = idx[1::2]\n",
    "val_y_ = labels[idx1] + labels[idx2]\n",
    "enc = OneHotEncoder(handle_unknown='ignore')\n",
    "val_y = enc.fit_transform((labels[idx1] + labels[idx2]).reshape(-1, 1)).todense()\n",
    "val_y.shape\n",
    "\n",
    "val_x = np.concatenate([images[idx1, ...], images[idx2, ...]], axis=2) # concatene images sur le 2e axe\n",
    "val_x.reshape(-1, 28*56).shape # re applatir pour le réseau"
   ]
  },
  {
   "cell_type": "code",
   "execution_count": 81,
   "id": "5a66f9b2",
   "metadata": {},
   "outputs": [],
   "source": [
    "import torch\n",
    "import torch.nn as nn\n",
    "import torch.nn.functional as F\n",
    "import torch.optim as optim\n",
    "from torch.autograd import Variable"
   ]
  },
  {
   "cell_type": "code",
   "execution_count": 82,
   "id": "c24f6207",
   "metadata": {},
   "outputs": [],
   "source": [
    "class Network(nn.Module):\n",
    "    def __init__(self):\n",
    "        super(Network, self).__init__()\n",
    "        self.l1 = nn.Linear(1568, 392)\n",
    "        self.relu1 = nn.ReLU() # casse la linearite\n",
    "        self.l2 = nn.Linear(392, 98)\n",
    "        self.relu2 = nn.ReLU() # casse la linearite\n",
    "        self.l3 = nn.Linear(98, 19)\n",
    "        \n",
    "    def forward(self, x):\n",
    "        x = self.l1(x)\n",
    "        x = self.relu1(x)\n",
    "        x = self.l2(x)\n",
    "        x = self.relu2(x)\n",
    "        x = self.l3(x)\n",
    "        return F.softmax(x, dim=1)"
   ]
  },
  {
   "cell_type": "code",
   "execution_count": 83,
   "id": "603d1415",
   "metadata": {},
   "outputs": [],
   "source": [
    "net = Network()"
   ]
  },
  {
   "cell_type": "code",
   "execution_count": 84,
   "id": "20bafc8a",
   "metadata": {},
   "outputs": [],
   "source": [
    "optimizer = optim.SGD(net.parameters(), lr=0.00005, momentum=0.9) # quelle fonction de descente de gradient ? rapidité de descente sur l'erreur\n",
    "loss_func = nn.CrossEntropyLoss()"
   ]
  },
  {
   "cell_type": "code",
   "execution_count": 85,
   "id": "96308712",
   "metadata": {},
   "outputs": [
    {
     "data": {
      "text/plain": [
       "(30000, 1568)"
      ]
     },
     "execution_count": 85,
     "metadata": {},
     "output_type": "execute_result"
    }
   ],
   "source": [
    "train_x.shape"
   ]
  },
  {
   "cell_type": "code",
   "execution_count": 86,
   "id": "96963646",
   "metadata": {},
   "outputs": [
    {
     "name": "stdout",
     "output_type": "stream",
     "text": [
      "Epoch: 0 - Loss: 2.943243\n",
      "Epoch: 1 - Loss: 2.943143\n",
      "Epoch: 2 - Loss: 2.943034\n",
      "Epoch: 3 - Loss: 2.942921\n",
      "Epoch: 4 - Loss: 2.942808\n",
      "Epoch: 5 - Loss: 2.942689\n",
      "Epoch: 6 - Loss: 2.942561\n",
      "Epoch: 7 - Loss: 2.942423\n",
      "Epoch: 8 - Loss: 2.942279\n",
      "Epoch: 9 - Loss: 2.942137\n",
      "Epoch: 10 - Loss: 2.941992\n",
      "Epoch: 11 - Loss: 2.941823\n",
      "Epoch: 12 - Loss: 2.941636\n",
      "Epoch: 13 - Loss: 2.941441\n",
      "Epoch: 14 - Loss: 2.941238\n",
      "Epoch: 15 - Loss: 2.941021\n",
      "Epoch: 16 - Loss: 2.940792\n",
      "Epoch: 17 - Loss: 2.940547\n",
      "Epoch: 18 - Loss: 2.940288\n",
      "Epoch: 19 - Loss: 2.940014\n"
     ]
    }
   ],
   "source": [
    "x = torch.FloatTensor(train_x)\n",
    "y = torch.LongTensor(train_y_)\n",
    "\n",
    "loss_log = []\n",
    "\n",
    "batch_size = 10\n",
    "n = train_x.shape[0]\n",
    "\n",
    "for e in range(20):\n",
    "    for i in range(0, n, batch_size):\n",
    "        x_mini = x[i:i + batch_size] \n",
    "        y_mini = y[i:i + batch_size] \n",
    "        \n",
    "        x_var = Variable(x_mini)\n",
    "        y_var = Variable(y_mini)\n",
    "        \n",
    "        optimizer.zero_grad()\n",
    "        net_out = net(x_var)\n",
    "        \n",
    "        loss = loss_func(net_out, y_var)\n",
    "        loss.backward()\n",
    "        optimizer.step()\n",
    "        \n",
    "        if i % 100 == 0:\n",
    "            loss_log.append(loss.item())\n",
    "        \n",
    "    print(f'Epoch: {e} - Loss: {loss.item():.6f}')"
   ]
  }
 ],
 "metadata": {
  "interpreter": {
   "hash": "e740c6042d112d4aa0dbf914341ad000ec33bad3b19207732515ecd62cba9bce"
  },
  "kernelspec": {
   "display_name": "Python [conda env:sum_ia] *",
   "language": "python",
   "name": "python3"
  },
  "language_info": {
   "codemirror_mode": {
    "name": "ipython",
    "version": 3
   },
   "file_extension": ".py",
   "mimetype": "text/x-python",
   "name": "python",
   "nbconvert_exporter": "python",
   "pygments_lexer": "ipython3",
   "version": "3.8.8"
  }
 },
 "nbformat": 4,
 "nbformat_minor": 5
}
