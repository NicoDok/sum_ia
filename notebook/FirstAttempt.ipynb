{
 "cells": [
  {
   "cell_type": "code",
   "execution_count": 215,
   "id": "f4542779",
   "metadata": {},
   "outputs": [],
   "source": [
    "import pandas as pd\n",
    "import numpy as np\n",
    "from sklearn.preprocessing import OneHotEncoder\n",
    "\n",
    "mnist_train_csv = \"../data/mnist_train.csv\"\n",
    "mnist_test_csv = \"../data/mnist_test.csv\"\n",
    "\n",
    "df_train = pd.read_csv(mnist_train_csv, header=None) # data_frame"
   ]
  },
  {
   "cell_type": "code",
   "execution_count": 216,
   "id": "d3b2d354",
   "metadata": {},
   "outputs": [
    {
     "data": {
      "text/plain": [
       "array([5, 0, 4, ..., 5, 6, 8], dtype=uint8)"
      ]
     },
     "execution_count": 216,
     "metadata": {},
     "output_type": "execute_result"
    }
   ],
   "source": [
    "labels = df_train.iloc[:, 0] # iloc \"indice\" ; loc \"identifiant string\" ; iloc + rapide que loc\n",
    "labels = labels.values.astype(np.uint8) # transforme en array numpy\n",
    "\n",
    "labels"
   ]
  },
  {
   "cell_type": "code",
   "execution_count": 217,
   "id": "7721c54c",
   "metadata": {},
   "outputs": [],
   "source": [
    "## 'identique' à la ligne du dessous, déduit la premiere dimension\n",
    "# images = df.iloc[:, 1:].values.astype(np.uint8).reshape(60000, 28, 28)\n",
    "\n",
    "images = df_train.iloc[:, 1:].values.astype(np.uint8).reshape(-1, 28, 28) # desapplati ...\n",
    "# images"
   ]
  },
  {
   "cell_type": "code",
   "execution_count": 218,
   "id": "8b6d4021",
   "metadata": {},
   "outputs": [
    {
     "data": {
      "text/plain": [
       "array([10556,  7088, 26049, ..., 22429, 13505, 33689])"
      ]
     },
     "execution_count": 218,
     "metadata": {},
     "output_type": "execute_result"
    }
   ],
   "source": [
    "n = labels.shape[0]\n",
    "idx = np.arange(n)\n",
    "np.random.shuffle(idx)\n",
    "idx1 = idx[::2]\n",
    "idx2 = idx[1::2]\n",
    "idx1"
   ]
  },
  {
   "cell_type": "code",
   "execution_count": 219,
   "id": "c2e9598e",
   "metadata": {},
   "outputs": [
    {
     "data": {
      "text/plain": [
       "(30000, 28, 28)"
      ]
     },
     "execution_count": 219,
     "metadata": {},
     "output_type": "execute_result"
    }
   ],
   "source": [
    "images[idx1, ...].shape"
   ]
  },
  {
   "cell_type": "code",
   "execution_count": 220,
   "id": "1a0dfdac",
   "metadata": {
    "scrolled": true
   },
   "outputs": [
    {
     "data": {
      "text/plain": [
       "array([ 7, 11, 10, ...,  8, 14,  7], dtype=uint8)"
      ]
     },
     "execution_count": 220,
     "metadata": {},
     "output_type": "execute_result"
    }
   ],
   "source": [
    "train_y_ = labels[idx1] + labels[idx2]\n",
    "train_y_"
   ]
  },
  {
   "cell_type": "code",
   "execution_count": 221,
   "id": "4b89706f",
   "metadata": {},
   "outputs": [
    {
     "data": {
      "text/plain": [
       "(30000, 19)"
      ]
     },
     "execution_count": 221,
     "metadata": {},
     "output_type": "execute_result"
    }
   ],
   "source": [
    "enc = OneHotEncoder(handle_unknown='ignore')\n",
    "train_y = enc.fit_transform((labels[idx1] + labels[idx2]).reshape(-1, 1)).todense()\n",
    "train_y.shape"
   ]
  },
  {
   "cell_type": "code",
   "execution_count": 222,
   "id": "ca60fd41",
   "metadata": {},
   "outputs": [],
   "source": [
    "train_x = np.concatenate([images[idx1, ...], images[idx2, ...]], axis=2) # concatene images sur le 2e axe"
   ]
  },
  {
   "cell_type": "code",
   "execution_count": 223,
   "id": "ceabbda2",
   "metadata": {},
   "outputs": [],
   "source": [
    "train_x = train_x.reshape(-1, 28*56) # re applatir pour le réseau"
   ]
  },
  {
   "cell_type": "code",
   "execution_count": 224,
   "id": "089011ea",
   "metadata": {
    "scrolled": true
   },
   "outputs": [
    {
     "data": {
      "text/plain": [
       "array([[0, 0, 0, ..., 0, 0, 0],\n",
       "       [0, 0, 0, ..., 0, 0, 0],\n",
       "       [0, 0, 0, ..., 0, 0, 0],\n",
       "       ...,\n",
       "       [0, 0, 0, ..., 0, 0, 0],\n",
       "       [0, 0, 0, ..., 0, 0, 0],\n",
       "       [0, 0, 0, ..., 0, 0, 0]], dtype=uint8)"
      ]
     },
     "execution_count": 224,
     "metadata": {},
     "output_type": "execute_result"
    }
   ],
   "source": [
    "train_x[0, :].reshape(28, 56)"
   ]
  },
  {
   "cell_type": "code",
   "execution_count": 225,
   "id": "8a900c35",
   "metadata": {},
   "outputs": [],
   "source": [
    "df_test = pd.read_csv(mnist_test_csv, header=None) # data_frame"
   ]
  },
  {
   "cell_type": "code",
   "execution_count": 226,
   "id": "13cda2b3",
   "metadata": {},
   "outputs": [
    {
     "data": {
      "text/plain": [
       "(30000, 1568)"
      ]
     },
     "execution_count": 226,
     "metadata": {},
     "output_type": "execute_result"
    }
   ],
   "source": [
    "labels = df_train.iloc[:, 0] # iloc \"indice\" ; loc \"identifiant string\" ; iloc + rapide que loc\n",
    "labels = labels.values.astype(np.uint8) # transforme en array numpy\n",
    "images = df_train.iloc[:, 1:].values.astype(np.uint8).reshape(-1, 28, 28) # desapplati ...\n",
    "n = labels.shape[0]\n",
    "idx = np.arange(n)\n",
    "np.random.shuffle(idx)\n",
    "idx1 = idx[::2]\n",
    "idx2 = idx[1::2]\n",
    "val_y_ = labels[idx1] + labels[idx2]\n",
    "enc = OneHotEncoder(handle_unknown='ignore')\n",
    "val_y = enc.fit_transform((labels[idx1] + labels[idx2]).reshape(-1, 1)).todense()\n",
    "val_y.shape\n",
    "\n",
    "val_x = np.concatenate([images[idx1, ...], images[idx2, ...]], axis=2) # concatene images sur le 2e axe\n",
    "val_x.reshape(-1, 28*56).shape # re applatir pour le réseau"
   ]
  },
  {
   "cell_type": "code",
   "execution_count": 227,
   "id": "5a66f9b2",
   "metadata": {},
   "outputs": [],
   "source": [
    "import torch\n",
    "import torch.nn as nn\n",
    "import torch.nn.functional as F\n",
    "import torch.optim as optim\n",
    "from torch.autograd import Variable"
   ]
  },
  {
   "cell_type": "code",
   "execution_count": 228,
   "id": "c24f6207",
   "metadata": {},
   "outputs": [],
   "source": [
    "class Network(nn.Module):\n",
    "    def __init__(self):\n",
    "        super(Network, self).__init__()\n",
    "        self.l1 = nn.Linear(1568, 392)\n",
    "        self.relu1 = nn.ReLU() # casse la linearite\n",
    "        self.l2 = nn.Linear(392, 98)\n",
    "        self.relu2 = nn.ReLU() # casse la linearite\n",
    "        self.l3 = nn.Linear(98, 19)\n",
    "        \n",
    "    def forward(self, x):\n",
    "        x = self.l1(x)\n",
    "        x = self.relu1(x)\n",
    "        x = self.l2(x)\n",
    "        x = self.relu2(x)\n",
    "        x = self.l3(x)\n",
    "        return F.softmax(x, dim=1)"
   ]
  },
  {
   "cell_type": "code",
   "execution_count": 229,
   "id": "603d1415",
   "metadata": {},
   "outputs": [],
   "source": [
    "net = Network()"
   ]
  },
  {
   "cell_type": "code",
   "execution_count": 230,
   "id": "20bafc8a",
   "metadata": {},
   "outputs": [],
   "source": [
    "optimizer = optim.SGD(net.parameters(), lr=0.00005, momentum=0.9) # quelle fonction de descente de gradient ? rapidité de descente sur l'erreur\n",
    "loss_func = nn.CrossEntropyLoss()"
   ]
  },
  {
   "cell_type": "code",
   "execution_count": 231,
   "id": "96308712",
   "metadata": {},
   "outputs": [
    {
     "data": {
      "text/plain": [
       "(30000, 1568)"
      ]
     },
     "execution_count": 231,
     "metadata": {},
     "output_type": "execute_result"
    }
   ],
   "source": [
    "train_x.shape"
   ]
  },
  {
   "cell_type": "code",
   "execution_count": 235,
   "id": "96963646",
   "metadata": {},
   "outputs": [
    {
     "name": "stdout",
     "output_type": "stream",
     "text": [
      "Epoch: 0 - Loss: 2.627676\n",
      "Epoch: 1 - Loss: 2.715848\n",
      "Epoch: 2 - Loss: 2.675275\n",
      "Epoch: 3 - Loss: 2.626011\n",
      "Epoch: 4 - Loss: 2.631945\n",
      "Epoch: 5 - Loss: 2.531826\n",
      "Epoch: 6 - Loss: 2.477762\n",
      "Epoch: 7 - Loss: 2.428895\n",
      "Epoch: 8 - Loss: 2.428611\n",
      "Epoch: 9 - Loss: 2.439358\n",
      "Epoch: 10 - Loss: 2.431302\n",
      "Epoch: 11 - Loss: 2.431292\n",
      "Epoch: 12 - Loss: 2.430727\n",
      "Epoch: 13 - Loss: 2.430761\n",
      "Epoch: 14 - Loss: 2.429841\n",
      "Epoch: 15 - Loss: 2.430312\n",
      "Epoch: 16 - Loss: 2.429871\n",
      "Epoch: 17 - Loss: 2.429542\n",
      "Epoch: 18 - Loss: 2.428632\n",
      "Epoch: 19 - Loss: 2.427879\n"
     ]
    }
   ],
   "source": [
    "x = torch.FloatTensor(train_x)\n",
    "y = torch.LongTensor(train_y_)\n",
    "\n",
    "loss_log = []\n",
    "\n",
    "batch_size = 10\n",
    "n = train_x.shape[0]\n",
    "\n",
    "for e in range(20):\n",
    "    for i in range(0, n, batch_size):\n",
    "        x_mini = x[i:i + batch_size] \n",
    "        y_mini = y[i:i + batch_size] \n",
    "        \n",
    "        x_var = Variable(x_mini)\n",
    "        y_var = Variable(y_mini)\n",
    "        \n",
    "        optimizer.zero_grad()\n",
    "        net_out = net(x_var)\n",
    "        \n",
    "        loss = loss_func(net_out, y_var)\n",
    "        loss.backward()\n",
    "        optimizer.step()\n",
    "        \n",
    "        if i % 100 == 0:\n",
    "            loss_log.append(loss.item())\n",
    "        \n",
    "    print(f'Epoch: {e} - Loss: {loss.item():.6f}')"
   ]
  }
 ],
 "metadata": {
  "kernelspec": {
   "display_name": "Python [conda env:sum_ia] *",
   "language": "python",
   "name": "conda-env-sum_ia-py"
  },
  "language_info": {
   "codemirror_mode": {
    "name": "ipython",
    "version": 3
   },
   "file_extension": ".py",
   "mimetype": "text/x-python",
   "name": "python",
   "nbconvert_exporter": "python",
   "pygments_lexer": "ipython3",
   "version": "3.7.11"
  }
 },
 "nbformat": 4,
 "nbformat_minor": 5
}
